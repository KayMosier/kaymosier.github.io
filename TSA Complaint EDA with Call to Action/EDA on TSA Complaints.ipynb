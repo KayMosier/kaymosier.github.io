{
 "cells": [
  {
   "cell_type": "markdown",
   "id": "96f96b39",
   "metadata": {},
   "source": [
    "# EDA on TSA Complaints\n",
    "### Kaylynn Mosier\n",
    "### 31 October 2024"
   ]
  },
  {
   "cell_type": "code",
   "execution_count": 1,
   "id": "8284aaf9",
   "metadata": {},
   "outputs": [],
   "source": [
    "# Load libraries\n",
    "import pandas as pd\n",
    "import numpy as np\n",
    "import matplotlib.pyplot as plt\n",
    "import seaborn as sns"
   ]
  },
  {
   "cell_type": "code",
   "execution_count": 2,
   "id": "497889fa",
   "metadata": {},
   "outputs": [],
   "source": [
    "# Load data\n",
    "complaints_by_airport = pd.read_csv(\"C:/Users/kayly/OneDrive/Desktop/MSDS/DSC640/Data/complaints-by-airport.csv\")\n",
    "complaints_by_category = pd.read_csv(\"C:/Users/kayly/OneDrive/Desktop/MSDS/DSC640/Data/complaints-by-category.csv\")\n",
    "complaints_by_subcategory = pd.read_csv(\"C:/Users/kayly/OneDrive/Desktop/MSDS/DSC640/Data/complaints-by-subcategory.csv\")\n",
    "look_up_codes = pd.read_csv(\"C:/Users/kayly/OneDrive/Desktop/MSDS/DSC640/Data/iata-icao.csv\")"
   ]
  },
  {
   "cell_type": "markdown",
   "id": "c7dcc0b9",
   "metadata": {},
   "source": [
    "## Complaints by Airport"
   ]
  },
  {
   "cell_type": "code",
   "execution_count": 3,
   "id": "0b627c5c",
   "metadata": {},
   "outputs": [
    {
     "data": {
      "text/html": [
       "<div>\n",
       "<style scoped>\n",
       "    .dataframe tbody tr th:only-of-type {\n",
       "        vertical-align: middle;\n",
       "    }\n",
       "\n",
       "    .dataframe tbody tr th {\n",
       "        vertical-align: top;\n",
       "    }\n",
       "\n",
       "    .dataframe thead th {\n",
       "        text-align: right;\n",
       "    }\n",
       "</style>\n",
       "<table border=\"1\" class=\"dataframe\">\n",
       "  <thead>\n",
       "    <tr style=\"text-align: right;\">\n",
       "      <th></th>\n",
       "      <th>pdf_report_date</th>\n",
       "      <th>airport</th>\n",
       "      <th>year_month</th>\n",
       "      <th>count</th>\n",
       "    </tr>\n",
       "  </thead>\n",
       "  <tbody>\n",
       "    <tr>\n",
       "      <th>0</th>\n",
       "      <td>2019-02</td>\n",
       "      <td>ABE</td>\n",
       "      <td>2015-01</td>\n",
       "      <td>0</td>\n",
       "    </tr>\n",
       "    <tr>\n",
       "      <th>1</th>\n",
       "      <td>2019-02</td>\n",
       "      <td>ABE</td>\n",
       "      <td>2015-02</td>\n",
       "      <td>0</td>\n",
       "    </tr>\n",
       "    <tr>\n",
       "      <th>2</th>\n",
       "      <td>2019-02</td>\n",
       "      <td>ABE</td>\n",
       "      <td>2015-03</td>\n",
       "      <td>0</td>\n",
       "    </tr>\n",
       "    <tr>\n",
       "      <th>3</th>\n",
       "      <td>2019-02</td>\n",
       "      <td>ABE</td>\n",
       "      <td>2015-04</td>\n",
       "      <td>0</td>\n",
       "    </tr>\n",
       "    <tr>\n",
       "      <th>4</th>\n",
       "      <td>2019-02</td>\n",
       "      <td>ABE</td>\n",
       "      <td>2015-05</td>\n",
       "      <td>2</td>\n",
       "    </tr>\n",
       "  </tbody>\n",
       "</table>\n",
       "</div>"
      ],
      "text/plain": [
       "  pdf_report_date airport year_month  count\n",
       "0         2019-02     ABE    2015-01      0\n",
       "1         2019-02     ABE    2015-02      0\n",
       "2         2019-02     ABE    2015-03      0\n",
       "3         2019-02     ABE    2015-04      0\n",
       "4         2019-02     ABE    2015-05      2"
      ]
     },
     "execution_count": 3,
     "metadata": {},
     "output_type": "execute_result"
    }
   ],
   "source": [
    "complaints_by_airport.head()"
   ]
  },
  {
   "cell_type": "code",
   "execution_count": 4,
   "id": "59b8db43",
   "metadata": {},
   "outputs": [
    {
     "data": {
      "text/plain": [
       "pdf_report_date    0\n",
       "airport            0\n",
       "year_month         0\n",
       "count              0\n",
       "dtype: int64"
      ]
     },
     "execution_count": 4,
     "metadata": {},
     "output_type": "execute_result"
    }
   ],
   "source": [
    "# Drop rows with na values\n",
    "complaints_by_airport.dropna(axis=0, inplace=True)\n",
    "complaints_by_airport.isna().sum()"
   ]
  },
  {
   "cell_type": "code",
   "execution_count": 5,
   "id": "632fa57d",
   "metadata": {},
   "outputs": [
    {
     "data": {
      "text/html": [
       "<div>\n",
       "<style scoped>\n",
       "    .dataframe tbody tr th:only-of-type {\n",
       "        vertical-align: middle;\n",
       "    }\n",
       "\n",
       "    .dataframe tbody tr th {\n",
       "        vertical-align: top;\n",
       "    }\n",
       "\n",
       "    .dataframe thead th {\n",
       "        text-align: right;\n",
       "    }\n",
       "</style>\n",
       "<table border=\"1\" class=\"dataframe\">\n",
       "  <thead>\n",
       "    <tr style=\"text-align: right;\">\n",
       "      <th></th>\n",
       "      <th>airport</th>\n",
       "      <th>year_month</th>\n",
       "      <th>count</th>\n",
       "      <th>year</th>\n",
       "      <th>month</th>\n",
       "    </tr>\n",
       "  </thead>\n",
       "  <tbody>\n",
       "    <tr>\n",
       "      <th>0</th>\n",
       "      <td>ABE</td>\n",
       "      <td>2015-01</td>\n",
       "      <td>0</td>\n",
       "      <td>2015</td>\n",
       "      <td>01</td>\n",
       "    </tr>\n",
       "    <tr>\n",
       "      <th>1</th>\n",
       "      <td>ABE</td>\n",
       "      <td>2015-02</td>\n",
       "      <td>0</td>\n",
       "      <td>2015</td>\n",
       "      <td>02</td>\n",
       "    </tr>\n",
       "    <tr>\n",
       "      <th>2</th>\n",
       "      <td>ABE</td>\n",
       "      <td>2015-03</td>\n",
       "      <td>0</td>\n",
       "      <td>2015</td>\n",
       "      <td>03</td>\n",
       "    </tr>\n",
       "    <tr>\n",
       "      <th>3</th>\n",
       "      <td>ABE</td>\n",
       "      <td>2015-04</td>\n",
       "      <td>0</td>\n",
       "      <td>2015</td>\n",
       "      <td>04</td>\n",
       "    </tr>\n",
       "    <tr>\n",
       "      <th>4</th>\n",
       "      <td>ABE</td>\n",
       "      <td>2015-05</td>\n",
       "      <td>2</td>\n",
       "      <td>2015</td>\n",
       "      <td>05</td>\n",
       "    </tr>\n",
       "  </tbody>\n",
       "</table>\n",
       "</div>"
      ],
      "text/plain": [
       "  airport year_month  count  year month\n",
       "0     ABE    2015-01      0  2015    01\n",
       "1     ABE    2015-02      0  2015    02\n",
       "2     ABE    2015-03      0  2015    03\n",
       "3     ABE    2015-04      0  2015    04\n",
       "4     ABE    2015-05      2  2015    05"
      ]
     },
     "execution_count": 5,
     "metadata": {},
     "output_type": "execute_result"
    }
   ],
   "source": [
    "# Drop pdf_report_date from complaints_by_airport\n",
    "complaints_by_airport = complaints_by_airport.drop('pdf_report_date', axis=1)\n",
    "\n",
    "# Separate year_month into year and month columns\n",
    "complaints_by_airport[['year', 'month']] = complaints_by_airport['year_month'].str.split('-', expand=True)\n",
    "complaints_by_airport.head()"
   ]
  },
  {
   "cell_type": "code",
   "execution_count": 6,
   "id": "05448ae6",
   "metadata": {},
   "outputs": [
    {
     "data": {
      "image/png": "[encoded data removed]",
      "text/plain": [
       "<Figure size 640x480 with 1 Axes>"
      ]
     },
     "metadata": {},
     "output_type": "display_data"
    }
   ],
   "source": [
    "# Find 10 airports with the most complaints\n",
    "group_by_airport = complaints_by_airport.groupby('airport').max()\n",
    "group_by_airport = group_by_airport.sort_values('count', ascending=False)\n",
    "group_by_airport = group_by_airport[:10]\n",
    "group_by_airport.reset_index(inplace=True)\n",
    "\n",
    "# Plot number of complaints by airport\n",
    "plt.bar(group_by_airport['airport'], group_by_airport['count'])\n",
    "plt.xlabel('Airport')\n",
    "plt.ylabel('Number of Complaints')\n",
    "plt.title('Complaints by Airpoprt (Top 10 of all Airports)')\n",
    "plt.show()"
   ]
  },
  {
   "cell_type": "code",
   "execution_count": null,
   "id": "1fe4ba06",
   "metadata": {},
   "outputs": [],
   "source": []
  },
  {
   "cell_type": "code",
   "execution_count": null,
   "id": "a75e5d9e",
   "metadata": {},
   "outputs": [],
   "source": []
  },
  {
   "cell_type": "markdown",
   "id": "be1a1e63",
   "metadata": {},
   "source": [
    "## Complaints by Category"
   ]
  },
  {
   "cell_type": "code",
   "execution_count": 7,
   "id": "7c0297c7",
   "metadata": {},
   "outputs": [
    {
     "data": {
      "text/html": [
       "<div>\n",
       "<style scoped>\n",
       "    .dataframe tbody tr th:only-of-type {\n",
       "        vertical-align: middle;\n",
       "    }\n",
       "\n",
       "    .dataframe tbody tr th {\n",
       "        vertical-align: top;\n",
       "    }\n",
       "\n",
       "    .dataframe thead th {\n",
       "        text-align: right;\n",
       "    }\n",
       "</style>\n",
       "<table border=\"1\" class=\"dataframe\">\n",
       "  <thead>\n",
       "    <tr style=\"text-align: right;\">\n",
       "      <th></th>\n",
       "      <th>pdf_report_date</th>\n",
       "      <th>airport</th>\n",
       "      <th>category</th>\n",
       "      <th>year_month</th>\n",
       "      <th>count</th>\n",
       "      <th>clean_cat</th>\n",
       "      <th>clean_cat_status</th>\n",
       "    </tr>\n",
       "  </thead>\n",
       "  <tbody>\n",
       "    <tr>\n",
       "      <th>0</th>\n",
       "      <td>2019-02</td>\n",
       "      <td>ABE</td>\n",
       "      <td>Hazardous Materials Safety</td>\n",
       "      <td>2015-01</td>\n",
       "      <td>0</td>\n",
       "      <td>Hazardous Materials Safety</td>\n",
       "      <td>original</td>\n",
       "    </tr>\n",
       "    <tr>\n",
       "      <th>1</th>\n",
       "      <td>2019-02</td>\n",
       "      <td>ABE</td>\n",
       "      <td>Mishandling of Passenger Property</td>\n",
       "      <td>2015-01</td>\n",
       "      <td>0</td>\n",
       "      <td>Mishandling of Passenger Property</td>\n",
       "      <td>original</td>\n",
       "    </tr>\n",
       "    <tr>\n",
       "      <th>2</th>\n",
       "      <td>2019-02</td>\n",
       "      <td>ABE</td>\n",
       "      <td>Hazardous Materials Safety</td>\n",
       "      <td>2015-02</td>\n",
       "      <td>0</td>\n",
       "      <td>Hazardous Materials Safety</td>\n",
       "      <td>original</td>\n",
       "    </tr>\n",
       "    <tr>\n",
       "      <th>3</th>\n",
       "      <td>2019-02</td>\n",
       "      <td>ABE</td>\n",
       "      <td>Mishandling of Passenger Property</td>\n",
       "      <td>2015-02</td>\n",
       "      <td>0</td>\n",
       "      <td>Mishandling of Passenger Property</td>\n",
       "      <td>original</td>\n",
       "    </tr>\n",
       "    <tr>\n",
       "      <th>4</th>\n",
       "      <td>2019-02</td>\n",
       "      <td>ABE</td>\n",
       "      <td>Hazardous Materials Safety</td>\n",
       "      <td>2015-03</td>\n",
       "      <td>0</td>\n",
       "      <td>Hazardous Materials Safety</td>\n",
       "      <td>original</td>\n",
       "    </tr>\n",
       "  </tbody>\n",
       "</table>\n",
       "</div>"
      ],
      "text/plain": [
       "  pdf_report_date airport                           category year_month  \\\n",
       "0         2019-02     ABE         Hazardous Materials Safety    2015-01   \n",
       "1         2019-02     ABE  Mishandling of Passenger Property    2015-01   \n",
       "2         2019-02     ABE         Hazardous Materials Safety    2015-02   \n",
       "3         2019-02     ABE  Mishandling of Passenger Property    2015-02   \n",
       "4         2019-02     ABE         Hazardous Materials Safety    2015-03   \n",
       "\n",
       "   count                          clean_cat clean_cat_status  \n",
       "0      0         Hazardous Materials Safety         original  \n",
       "1      0  Mishandling of Passenger Property         original  \n",
       "2      0         Hazardous Materials Safety         original  \n",
       "3      0  Mishandling of Passenger Property         original  \n",
       "4      0         Hazardous Materials Safety         original  "
      ]
     },
     "execution_count": 7,
     "metadata": {},
     "output_type": "execute_result"
    }
   ],
   "source": [
    "complaints_by_category.head()"
   ]
  },
  {
   "cell_type": "code",
   "execution_count": 8,
   "id": "3481a333",
   "metadata": {},
   "outputs": [
    {
     "data": {
      "text/html": [
       "<div>\n",
       "<style scoped>\n",
       "    .dataframe tbody tr th:only-of-type {\n",
       "        vertical-align: middle;\n",
       "    }\n",
       "\n",
       "    .dataframe tbody tr th {\n",
       "        vertical-align: top;\n",
       "    }\n",
       "\n",
       "    .dataframe thead th {\n",
       "        text-align: right;\n",
       "    }\n",
       "</style>\n",
       "<table border=\"1\" class=\"dataframe\">\n",
       "  <thead>\n",
       "    <tr style=\"text-align: right;\">\n",
       "      <th></th>\n",
       "      <th>airport</th>\n",
       "      <th>category</th>\n",
       "      <th>year_month</th>\n",
       "      <th>count</th>\n",
       "      <th>clean_cat</th>\n",
       "      <th>clean_cat_status</th>\n",
       "      <th>year</th>\n",
       "      <th>month</th>\n",
       "    </tr>\n",
       "  </thead>\n",
       "  <tbody>\n",
       "    <tr>\n",
       "      <th>0</th>\n",
       "      <td>ABE</td>\n",
       "      <td>Hazardous Materials Safety</td>\n",
       "      <td>2015-01</td>\n",
       "      <td>0</td>\n",
       "      <td>Hazardous Materials Safety</td>\n",
       "      <td>original</td>\n",
       "      <td>2015</td>\n",
       "      <td>01</td>\n",
       "    </tr>\n",
       "    <tr>\n",
       "      <th>1</th>\n",
       "      <td>ABE</td>\n",
       "      <td>Mishandling of Passenger Property</td>\n",
       "      <td>2015-01</td>\n",
       "      <td>0</td>\n",
       "      <td>Mishandling of Passenger Property</td>\n",
       "      <td>original</td>\n",
       "      <td>2015</td>\n",
       "      <td>01</td>\n",
       "    </tr>\n",
       "    <tr>\n",
       "      <th>2</th>\n",
       "      <td>ABE</td>\n",
       "      <td>Hazardous Materials Safety</td>\n",
       "      <td>2015-02</td>\n",
       "      <td>0</td>\n",
       "      <td>Hazardous Materials Safety</td>\n",
       "      <td>original</td>\n",
       "      <td>2015</td>\n",
       "      <td>02</td>\n",
       "    </tr>\n",
       "    <tr>\n",
       "      <th>3</th>\n",
       "      <td>ABE</td>\n",
       "      <td>Mishandling of Passenger Property</td>\n",
       "      <td>2015-02</td>\n",
       "      <td>0</td>\n",
       "      <td>Mishandling of Passenger Property</td>\n",
       "      <td>original</td>\n",
       "      <td>2015</td>\n",
       "      <td>02</td>\n",
       "    </tr>\n",
       "    <tr>\n",
       "      <th>4</th>\n",
       "      <td>ABE</td>\n",
       "      <td>Hazardous Materials Safety</td>\n",
       "      <td>2015-03</td>\n",
       "      <td>0</td>\n",
       "      <td>Hazardous Materials Safety</td>\n",
       "      <td>original</td>\n",
       "      <td>2015</td>\n",
       "      <td>03</td>\n",
       "    </tr>\n",
       "  </tbody>\n",
       "</table>\n",
       "</div>"
      ],
      "text/plain": [
       "  airport                           category year_month  count  \\\n",
       "0     ABE         Hazardous Materials Safety    2015-01      0   \n",
       "1     ABE  Mishandling of Passenger Property    2015-01      0   \n",
       "2     ABE         Hazardous Materials Safety    2015-02      0   \n",
       "3     ABE  Mishandling of Passenger Property    2015-02      0   \n",
       "4     ABE         Hazardous Materials Safety    2015-03      0   \n",
       "\n",
       "                           clean_cat clean_cat_status  year month  \n",
       "0         Hazardous Materials Safety         original  2015    01  \n",
       "1  Mishandling of Passenger Property         original  2015    01  \n",
       "2         Hazardous Materials Safety         original  2015    02  \n",
       "3  Mishandling of Passenger Property         original  2015    02  \n",
       "4         Hazardous Materials Safety         original  2015    03  "
      ]
     },
     "execution_count": 8,
     "metadata": {},
     "output_type": "execute_result"
    }
   ],
   "source": [
    "# Drop pdf_report_date from complaints_by_airport\n",
    "complaints_by_category = complaints_by_category.drop('pdf_report_date', axis=1)\n",
    "\n",
    "# Separate year_month into year and month columns\n",
    "complaints_by_category[['year', 'month']] = complaints_by_category['year_month'].str.split('-', expand=True)\n",
    "complaints_by_category.head()"
   ]
  },
  {
   "cell_type": "code",
   "execution_count": 9,
   "id": "6da599b1",
   "metadata": {},
   "outputs": [
    {
     "data": {
      "text/plain": [
       "airport             0\n",
       "category            0\n",
       "year_month          0\n",
       "count               0\n",
       "clean_cat           0\n",
       "clean_cat_status    0\n",
       "year                0\n",
       "month               0\n",
       "dtype: int64"
      ]
     },
     "execution_count": 9,
     "metadata": {},
     "output_type": "execute_result"
    }
   ],
   "source": [
    "# Drop rows with na values\n",
    "complaints_by_category.dropna(axis=0, inplace=True)\n",
    "complaints_by_category.isna().sum()"
   ]
  },
  {
   "cell_type": "code",
   "execution_count": 10,
   "id": "912f30a7",
   "metadata": {},
   "outputs": [
    {
     "data": {
      "image/png": "[encoded data removed]",
      "text/plain": [
       "<Figure size 640x480 with 1 Axes>"
      ]
     },
     "metadata": {},
     "output_type": "display_data"
    }
   ],
   "source": [
    "# Find categories with the most complaints\n",
    "group_by_category = complaints_by_category[['count', 'clean_cat']]\n",
    "group_by_category = group_by_category.groupby('clean_cat').max()\n",
    "group_by_category = group_by_category.sort_values('count', ascending=False)\n",
    "group_by_category = group_by_category[:10]\n",
    "group_by_category.reset_index(inplace=True)\n",
    "\n",
    "# Plot number of complaints by airport\n",
    "plt.barh(group_by_category['clean_cat'], group_by_category['count'])\n",
    "plt.ylabel('Complain Category')\n",
    "plt.xlabel('Number of Complaints')\n",
    "plt.title('Complaints by Category')\n",
    "plt.show()"
   ]
  },
  {
   "cell_type": "code",
   "execution_count": 11,
   "id": "66be82ca",
   "metadata": {},
   "outputs": [
    {
     "data": {
      "text/html": [
       "<div>\n",
       "<style scoped>\n",
       "    .dataframe tbody tr th:only-of-type {\n",
       "        vertical-align: middle;\n",
       "    }\n",
       "\n",
       "    .dataframe tbody tr th {\n",
       "        vertical-align: top;\n",
       "    }\n",
       "\n",
       "    .dataframe thead th {\n",
       "        text-align: right;\n",
       "    }\n",
       "</style>\n",
       "<table border=\"1\" class=\"dataframe\">\n",
       "  <thead>\n",
       "    <tr style=\"text-align: right;\">\n",
       "      <th></th>\n",
       "      <th></th>\n",
       "      <th>count</th>\n",
       "    </tr>\n",
       "    <tr>\n",
       "      <th>airport</th>\n",
       "      <th>clean_cat</th>\n",
       "      <th></th>\n",
       "    </tr>\n",
       "  </thead>\n",
       "  <tbody>\n",
       "    <tr>\n",
       "      <th>EWR</th>\n",
       "      <th>Expedited Passenger Screening Program</th>\n",
       "      <td>582</td>\n",
       "    </tr>\n",
       "    <tr>\n",
       "      <th>ORD</th>\n",
       "      <th>Expedited Passenger Screening Program</th>\n",
       "      <td>421</td>\n",
       "    </tr>\n",
       "    <tr>\n",
       "      <th>ATL</th>\n",
       "      <th>Expedited Passenger Screening Program</th>\n",
       "      <td>377</td>\n",
       "    </tr>\n",
       "    <tr>\n",
       "      <th>DEN</th>\n",
       "      <th>Expedited Passenger Screening Program</th>\n",
       "      <td>375</td>\n",
       "    </tr>\n",
       "    <tr>\n",
       "      <th>SFO</th>\n",
       "      <th>Expedited Passenger Screening Program</th>\n",
       "      <td>373</td>\n",
       "    </tr>\n",
       "    <tr>\n",
       "      <th>LAX</th>\n",
       "      <th>Expedited Passenger Screening Program</th>\n",
       "      <td>370</td>\n",
       "    </tr>\n",
       "    <tr>\n",
       "      <th>JFK</th>\n",
       "      <th>Expedited Passenger Screening Program</th>\n",
       "      <td>348</td>\n",
       "    </tr>\n",
       "    <tr>\n",
       "      <th>BOS</th>\n",
       "      <th>Expedited Passenger Screening Program</th>\n",
       "      <td>299</td>\n",
       "    </tr>\n",
       "    <tr>\n",
       "      <th>MCO</th>\n",
       "      <th>Expedited Passenger Screening Program</th>\n",
       "      <td>285</td>\n",
       "    </tr>\n",
       "    <tr>\n",
       "      <th>SEA</th>\n",
       "      <th>Expedited Passenger Screening Program</th>\n",
       "      <td>282</td>\n",
       "    </tr>\n",
       "  </tbody>\n",
       "</table>\n",
       "</div>"
      ],
      "text/plain": [
       "                                               count\n",
       "airport clean_cat                                   \n",
       "EWR     Expedited Passenger Screening Program    582\n",
       "ORD     Expedited Passenger Screening Program    421\n",
       "ATL     Expedited Passenger Screening Program    377\n",
       "DEN     Expedited Passenger Screening Program    375\n",
       "SFO     Expedited Passenger Screening Program    373\n",
       "LAX     Expedited Passenger Screening Program    370\n",
       "JFK     Expedited Passenger Screening Program    348\n",
       "BOS     Expedited Passenger Screening Program    299\n",
       "MCO     Expedited Passenger Screening Program    285\n",
       "SEA     Expedited Passenger Screening Program    282"
      ]
     },
     "execution_count": 11,
     "metadata": {},
     "output_type": "execute_result"
    }
   ],
   "source": [
    "# Find categories with the most complaints in airport with the most complaints\n",
    "top_10_airports_category = complaints_by_category.loc[complaints_by_category['airport'].isin(['EWR', 'ATL', 'DEN', 'MCO',\n",
    "                                                                                             'ORD', 'JFK', 'LAX', 'SFO',\n",
    "                                                                                             'SEA', 'BOS'])]\n",
    "top_10_airports_category = top_10_airports_category[['airport','count', 'clean_cat']]\n",
    "top_10_airports_category = top_10_airports_category.groupby(['airport', 'clean_cat']).max()\n",
    "top_10_airports_category = top_10_airports_category.sort_values('count', ascending=False)\n",
    "top_10_airports_category[:10]"
   ]
  },
  {
   "cell_type": "markdown",
   "id": "938093b6",
   "metadata": {},
   "source": [
    "Looks like top airpors have the same top category of complaints; Expedited Passenger Screening Program\n",
    "\n",
    "## Complaints by Subcategory"
   ]
  },
  {
   "cell_type": "code",
   "execution_count": 12,
   "id": "1c9e838d",
   "metadata": {},
   "outputs": [
    {
     "data": {
      "text/html": [
       "<div>\n",
       "<style scoped>\n",
       "    .dataframe tbody tr th:only-of-type {\n",
       "        vertical-align: middle;\n",
       "    }\n",
       "\n",
       "    .dataframe tbody tr th {\n",
       "        vertical-align: top;\n",
       "    }\n",
       "\n",
       "    .dataframe thead th {\n",
       "        text-align: right;\n",
       "    }\n",
       "</style>\n",
       "<table border=\"1\" class=\"dataframe\">\n",
       "  <thead>\n",
       "    <tr style=\"text-align: right;\">\n",
       "      <th></th>\n",
       "      <th>pdf_report_date</th>\n",
       "      <th>airport</th>\n",
       "      <th>category</th>\n",
       "      <th>subcategory</th>\n",
       "      <th>year_month</th>\n",
       "      <th>count</th>\n",
       "      <th>clean_cat</th>\n",
       "      <th>clean_subcat</th>\n",
       "      <th>clean_cat_status</th>\n",
       "      <th>clean_subcat_status</th>\n",
       "      <th>is_category_prefix_removed</th>\n",
       "    </tr>\n",
       "  </thead>\n",
       "  <tbody>\n",
       "    <tr>\n",
       "      <th>0</th>\n",
       "      <td>2019-02</td>\n",
       "      <td>ABE</td>\n",
       "      <td>Hazardous Materials Safety</td>\n",
       "      <td>General</td>\n",
       "      <td>2015-01</td>\n",
       "      <td>0</td>\n",
       "      <td>Hazardous Materials Safety</td>\n",
       "      <td>General</td>\n",
       "      <td>original</td>\n",
       "      <td>original</td>\n",
       "      <td>False</td>\n",
       "    </tr>\n",
       "    <tr>\n",
       "      <th>1</th>\n",
       "      <td>2019-02</td>\n",
       "      <td>ABE</td>\n",
       "      <td>Mishandling of Passenger Property</td>\n",
       "      <td>Damaged/Missing Items--Checked Baggage</td>\n",
       "      <td>2015-01</td>\n",
       "      <td>0</td>\n",
       "      <td>Mishandling of Passenger Property</td>\n",
       "      <td>*Damaged/Missing Items--Checked Baggage</td>\n",
       "      <td>original</td>\n",
       "      <td>original</td>\n",
       "      <td>False</td>\n",
       "    </tr>\n",
       "    <tr>\n",
       "      <th>2</th>\n",
       "      <td>2019-02</td>\n",
       "      <td>ABE</td>\n",
       "      <td>Hazardous Materials Safety</td>\n",
       "      <td>General</td>\n",
       "      <td>2015-02</td>\n",
       "      <td>0</td>\n",
       "      <td>Hazardous Materials Safety</td>\n",
       "      <td>General</td>\n",
       "      <td>original</td>\n",
       "      <td>original</td>\n",
       "      <td>False</td>\n",
       "    </tr>\n",
       "    <tr>\n",
       "      <th>3</th>\n",
       "      <td>2019-02</td>\n",
       "      <td>ABE</td>\n",
       "      <td>Mishandling of Passenger Property</td>\n",
       "      <td>Damaged/Missing Items--Checked Baggage</td>\n",
       "      <td>2015-02</td>\n",
       "      <td>0</td>\n",
       "      <td>Mishandling of Passenger Property</td>\n",
       "      <td>*Damaged/Missing Items--Checked Baggage</td>\n",
       "      <td>original</td>\n",
       "      <td>original</td>\n",
       "      <td>False</td>\n",
       "    </tr>\n",
       "    <tr>\n",
       "      <th>4</th>\n",
       "      <td>2019-02</td>\n",
       "      <td>ABE</td>\n",
       "      <td>Hazardous Materials Safety</td>\n",
       "      <td>General</td>\n",
       "      <td>2015-03</td>\n",
       "      <td>0</td>\n",
       "      <td>Hazardous Materials Safety</td>\n",
       "      <td>General</td>\n",
       "      <td>original</td>\n",
       "      <td>original</td>\n",
       "      <td>False</td>\n",
       "    </tr>\n",
       "  </tbody>\n",
       "</table>\n",
       "</div>"
      ],
      "text/plain": [
       "  pdf_report_date airport                           category  \\\n",
       "0         2019-02     ABE         Hazardous Materials Safety   \n",
       "1         2019-02     ABE  Mishandling of Passenger Property   \n",
       "2         2019-02     ABE         Hazardous Materials Safety   \n",
       "3         2019-02     ABE  Mishandling of Passenger Property   \n",
       "4         2019-02     ABE         Hazardous Materials Safety   \n",
       "\n",
       "                              subcategory year_month  count  \\\n",
       "0                                 General    2015-01      0   \n",
       "1  Damaged/Missing Items--Checked Baggage    2015-01      0   \n",
       "2                                 General    2015-02      0   \n",
       "3  Damaged/Missing Items--Checked Baggage    2015-02      0   \n",
       "4                                 General    2015-03      0   \n",
       "\n",
       "                           clean_cat                             clean_subcat  \\\n",
       "0         Hazardous Materials Safety                                  General   \n",
       "1  Mishandling of Passenger Property  *Damaged/Missing Items--Checked Baggage   \n",
       "2         Hazardous Materials Safety                                  General   \n",
       "3  Mishandling of Passenger Property  *Damaged/Missing Items--Checked Baggage   \n",
       "4         Hazardous Materials Safety                                  General   \n",
       "\n",
       "  clean_cat_status clean_subcat_status  is_category_prefix_removed  \n",
       "0         original            original                       False  \n",
       "1         original            original                       False  \n",
       "2         original            original                       False  \n",
       "3         original            original                       False  \n",
       "4         original            original                       False  "
      ]
     },
     "execution_count": 12,
     "metadata": {},
     "output_type": "execute_result"
    }
   ],
   "source": [
    "complaints_by_subcategory.head()"
   ]
  },
  {
   "cell_type": "code",
   "execution_count": 13,
   "id": "256786a3",
   "metadata": {},
   "outputs": [
    {
     "data": {
      "text/html": [
       "<div>\n",
       "<style scoped>\n",
       "    .dataframe tbody tr th:only-of-type {\n",
       "        vertical-align: middle;\n",
       "    }\n",
       "\n",
       "    .dataframe tbody tr th {\n",
       "        vertical-align: top;\n",
       "    }\n",
       "\n",
       "    .dataframe thead th {\n",
       "        text-align: right;\n",
       "    }\n",
       "</style>\n",
       "<table border=\"1\" class=\"dataframe\">\n",
       "  <thead>\n",
       "    <tr style=\"text-align: right;\">\n",
       "      <th></th>\n",
       "      <th>airport</th>\n",
       "      <th>category</th>\n",
       "      <th>subcategory</th>\n",
       "      <th>year_month</th>\n",
       "      <th>count</th>\n",
       "      <th>clean_cat</th>\n",
       "      <th>clean_subcat</th>\n",
       "      <th>clean_cat_status</th>\n",
       "      <th>clean_subcat_status</th>\n",
       "      <th>is_category_prefix_removed</th>\n",
       "      <th>year</th>\n",
       "      <th>month</th>\n",
       "    </tr>\n",
       "  </thead>\n",
       "  <tbody>\n",
       "    <tr>\n",
       "      <th>0</th>\n",
       "      <td>ABE</td>\n",
       "      <td>Hazardous Materials Safety</td>\n",
       "      <td>General</td>\n",
       "      <td>2015-01</td>\n",
       "      <td>0</td>\n",
       "      <td>Hazardous Materials Safety</td>\n",
       "      <td>General</td>\n",
       "      <td>original</td>\n",
       "      <td>original</td>\n",
       "      <td>False</td>\n",
       "      <td>2015</td>\n",
       "      <td>01</td>\n",
       "    </tr>\n",
       "    <tr>\n",
       "      <th>1</th>\n",
       "      <td>ABE</td>\n",
       "      <td>Mishandling of Passenger Property</td>\n",
       "      <td>Damaged/Missing Items--Checked Baggage</td>\n",
       "      <td>2015-01</td>\n",
       "      <td>0</td>\n",
       "      <td>Mishandling of Passenger Property</td>\n",
       "      <td>*Damaged/Missing Items--Checked Baggage</td>\n",
       "      <td>original</td>\n",
       "      <td>original</td>\n",
       "      <td>False</td>\n",
       "      <td>2015</td>\n",
       "      <td>01</td>\n",
       "    </tr>\n",
       "    <tr>\n",
       "      <th>2</th>\n",
       "      <td>ABE</td>\n",
       "      <td>Hazardous Materials Safety</td>\n",
       "      <td>General</td>\n",
       "      <td>2015-02</td>\n",
       "      <td>0</td>\n",
       "      <td>Hazardous Materials Safety</td>\n",
       "      <td>General</td>\n",
       "      <td>original</td>\n",
       "      <td>original</td>\n",
       "      <td>False</td>\n",
       "      <td>2015</td>\n",
       "      <td>02</td>\n",
       "    </tr>\n",
       "    <tr>\n",
       "      <th>3</th>\n",
       "      <td>ABE</td>\n",
       "      <td>Mishandling of Passenger Property</td>\n",
       "      <td>Damaged/Missing Items--Checked Baggage</td>\n",
       "      <td>2015-02</td>\n",
       "      <td>0</td>\n",
       "      <td>Mishandling of Passenger Property</td>\n",
       "      <td>*Damaged/Missing Items--Checked Baggage</td>\n",
       "      <td>original</td>\n",
       "      <td>original</td>\n",
       "      <td>False</td>\n",
       "      <td>2015</td>\n",
       "      <td>02</td>\n",
       "    </tr>\n",
       "    <tr>\n",
       "      <th>4</th>\n",
       "      <td>ABE</td>\n",
       "      <td>Hazardous Materials Safety</td>\n",
       "      <td>General</td>\n",
       "      <td>2015-03</td>\n",
       "      <td>0</td>\n",
       "      <td>Hazardous Materials Safety</td>\n",
       "      <td>General</td>\n",
       "      <td>original</td>\n",
       "      <td>original</td>\n",
       "      <td>False</td>\n",
       "      <td>2015</td>\n",
       "      <td>03</td>\n",
       "    </tr>\n",
       "  </tbody>\n",
       "</table>\n",
       "</div>"
      ],
      "text/plain": [
       "  airport                           category  \\\n",
       "0     ABE         Hazardous Materials Safety   \n",
       "1     ABE  Mishandling of Passenger Property   \n",
       "2     ABE         Hazardous Materials Safety   \n",
       "3     ABE  Mishandling of Passenger Property   \n",
       "4     ABE         Hazardous Materials Safety   \n",
       "\n",
       "                              subcategory year_month  count  \\\n",
       "0                                 General    2015-01      0   \n",
       "1  Damaged/Missing Items--Checked Baggage    2015-01      0   \n",
       "2                                 General    2015-02      0   \n",
       "3  Damaged/Missing Items--Checked Baggage    2015-02      0   \n",
       "4                                 General    2015-03      0   \n",
       "\n",
       "                           clean_cat                             clean_subcat  \\\n",
       "0         Hazardous Materials Safety                                  General   \n",
       "1  Mishandling of Passenger Property  *Damaged/Missing Items--Checked Baggage   \n",
       "2         Hazardous Materials Safety                                  General   \n",
       "3  Mishandling of Passenger Property  *Damaged/Missing Items--Checked Baggage   \n",
       "4         Hazardous Materials Safety                                  General   \n",
       "\n",
       "  clean_cat_status clean_subcat_status  is_category_prefix_removed  year month  \n",
       "0         original            original                       False  2015    01  \n",
       "1         original            original                       False  2015    01  \n",
       "2         original            original                       False  2015    02  \n",
       "3         original            original                       False  2015    02  \n",
       "4         original            original                       False  2015    03  "
      ]
     },
     "execution_count": 13,
     "metadata": {},
     "output_type": "execute_result"
    }
   ],
   "source": [
    "# Drop pdf_report_date from complaints_by_airport\n",
    "complaints_by_subcategory = complaints_by_subcategory.drop('pdf_report_date', axis=1)\n",
    "\n",
    "# Separate year_month into year and month columns\n",
    "complaints_by_subcategory[['year', 'month']] = complaints_by_subcategory['year_month'].str.split('-', expand=True)\n",
    "complaints_by_subcategory.head()"
   ]
  },
  {
   "cell_type": "code",
   "execution_count": 14,
   "id": "e4647a71",
   "metadata": {},
   "outputs": [
    {
     "data": {
      "text/plain": [
       "airport                       0\n",
       "category                      0\n",
       "subcategory                   0\n",
       "year_month                    0\n",
       "count                         0\n",
       "clean_cat                     0\n",
       "clean_subcat                  0\n",
       "clean_cat_status              0\n",
       "clean_subcat_status           0\n",
       "is_category_prefix_removed    0\n",
       "year                          0\n",
       "month                         0\n",
       "dtype: int64"
      ]
     },
     "execution_count": 14,
     "metadata": {},
     "output_type": "execute_result"
    }
   ],
   "source": [
    "# Drop rows with na values\n",
    "complaints_by_subcategory.dropna(axis=0, inplace=True)\n",
    "complaints_by_subcategory.isna().sum()"
   ]
  },
  {
   "cell_type": "markdown",
   "id": "5923b9fb",
   "metadata": {},
   "source": [
    "## Look Up Codes"
   ]
  },
  {
   "cell_type": "code",
   "execution_count": 15,
   "id": "88c21f01",
   "metadata": {},
   "outputs": [
    {
     "data": {
      "text/html": [
       "<div>\n",
       "<style scoped>\n",
       "    .dataframe tbody tr th:only-of-type {\n",
       "        vertical-align: middle;\n",
       "    }\n",
       "\n",
       "    .dataframe tbody tr th {\n",
       "        vertical-align: top;\n",
       "    }\n",
       "\n",
       "    .dataframe thead th {\n",
       "        text-align: right;\n",
       "    }\n",
       "</style>\n",
       "<table border=\"1\" class=\"dataframe\">\n",
       "  <thead>\n",
       "    <tr style=\"text-align: right;\">\n",
       "      <th></th>\n",
       "      <th>country_code</th>\n",
       "      <th>region_name</th>\n",
       "      <th>iata</th>\n",
       "      <th>icao</th>\n",
       "      <th>airport</th>\n",
       "      <th>latitude</th>\n",
       "      <th>longitude</th>\n",
       "    </tr>\n",
       "  </thead>\n",
       "  <tbody>\n",
       "    <tr>\n",
       "      <th>0</th>\n",
       "      <td>AE</td>\n",
       "      <td>Abu Zaby</td>\n",
       "      <td>AAN</td>\n",
       "      <td>OMAL</td>\n",
       "      <td>Al Ain International Airport</td>\n",
       "      <td>24.2617</td>\n",
       "      <td>55.6092</td>\n",
       "    </tr>\n",
       "    <tr>\n",
       "      <th>1</th>\n",
       "      <td>AE</td>\n",
       "      <td>Abu Zaby</td>\n",
       "      <td>AUH</td>\n",
       "      <td>OMAA</td>\n",
       "      <td>Abu Dhabi International Airport</td>\n",
       "      <td>24.4330</td>\n",
       "      <td>54.6511</td>\n",
       "    </tr>\n",
       "    <tr>\n",
       "      <th>2</th>\n",
       "      <td>AE</td>\n",
       "      <td>Abu Zaby</td>\n",
       "      <td>AYM</td>\n",
       "      <td>NaN</td>\n",
       "      <td>Yas Island Seaplane Base</td>\n",
       "      <td>24.4670</td>\n",
       "      <td>54.6103</td>\n",
       "    </tr>\n",
       "    <tr>\n",
       "      <th>3</th>\n",
       "      <td>AE</td>\n",
       "      <td>Abu Zaby</td>\n",
       "      <td>AZI</td>\n",
       "      <td>OMAD</td>\n",
       "      <td>Al Bateen Executive Airport</td>\n",
       "      <td>24.4283</td>\n",
       "      <td>54.4581</td>\n",
       "    </tr>\n",
       "    <tr>\n",
       "      <th>4</th>\n",
       "      <td>AE</td>\n",
       "      <td>Abu Zaby</td>\n",
       "      <td>DHF</td>\n",
       "      <td>OMAM</td>\n",
       "      <td>Al Dhafra Air Base</td>\n",
       "      <td>24.2482</td>\n",
       "      <td>54.5477</td>\n",
       "    </tr>\n",
       "    <tr>\n",
       "      <th>...</th>\n",
       "      <td>...</td>\n",
       "      <td>...</td>\n",
       "      <td>...</td>\n",
       "      <td>...</td>\n",
       "      <td>...</td>\n",
       "      <td>...</td>\n",
       "      <td>...</td>\n",
       "    </tr>\n",
       "    <tr>\n",
       "      <th>8932</th>\n",
       "      <td>ZW</td>\n",
       "      <td>Masvingo</td>\n",
       "      <td>MVZ</td>\n",
       "      <td>FVMV</td>\n",
       "      <td>Masvingo Airport</td>\n",
       "      <td>-20.0553</td>\n",
       "      <td>30.8591</td>\n",
       "    </tr>\n",
       "    <tr>\n",
       "      <th>8933</th>\n",
       "      <td>ZW</td>\n",
       "      <td>Matabeleland North</td>\n",
       "      <td>HWN</td>\n",
       "      <td>FVWN</td>\n",
       "      <td>Hwange National Park Airport</td>\n",
       "      <td>-18.6299</td>\n",
       "      <td>27.0210</td>\n",
       "    </tr>\n",
       "    <tr>\n",
       "      <th>8934</th>\n",
       "      <td>ZW</td>\n",
       "      <td>Matabeleland North</td>\n",
       "      <td>VFA</td>\n",
       "      <td>FVFA</td>\n",
       "      <td>Victoria Falls Airport</td>\n",
       "      <td>-18.0959</td>\n",
       "      <td>25.8390</td>\n",
       "    </tr>\n",
       "    <tr>\n",
       "      <th>8935</th>\n",
       "      <td>ZW</td>\n",
       "      <td>Matabeleland North</td>\n",
       "      <td>WKI</td>\n",
       "      <td>FVWT</td>\n",
       "      <td>Hwange Town Airport</td>\n",
       "      <td>-18.3630</td>\n",
       "      <td>26.5198</td>\n",
       "    </tr>\n",
       "    <tr>\n",
       "      <th>8936</th>\n",
       "      <td>ZW</td>\n",
       "      <td>Midlands</td>\n",
       "      <td>GWE</td>\n",
       "      <td>FVTL</td>\n",
       "      <td>Thornhill Air Base</td>\n",
       "      <td>-19.4364</td>\n",
       "      <td>29.8619</td>\n",
       "    </tr>\n",
       "  </tbody>\n",
       "</table>\n",
       "<p>8937 rows × 7 columns</p>\n",
       "</div>"
      ],
      "text/plain": [
       "     country_code         region_name iata  icao  \\\n",
       "0              AE            Abu Zaby  AAN  OMAL   \n",
       "1              AE            Abu Zaby  AUH  OMAA   \n",
       "2              AE            Abu Zaby  AYM   NaN   \n",
       "3              AE            Abu Zaby  AZI  OMAD   \n",
       "4              AE            Abu Zaby  DHF  OMAM   \n",
       "...           ...                 ...  ...   ...   \n",
       "8932           ZW            Masvingo  MVZ  FVMV   \n",
       "8933           ZW  Matabeleland North  HWN  FVWN   \n",
       "8934           ZW  Matabeleland North  VFA  FVFA   \n",
       "8935           ZW  Matabeleland North  WKI  FVWT   \n",
       "8936           ZW            Midlands  GWE  FVTL   \n",
       "\n",
       "                              airport  latitude  longitude  \n",
       "0        Al Ain International Airport   24.2617    55.6092  \n",
       "1     Abu Dhabi International Airport   24.4330    54.6511  \n",
       "2            Yas Island Seaplane Base   24.4670    54.6103  \n",
       "3         Al Bateen Executive Airport   24.4283    54.4581  \n",
       "4                  Al Dhafra Air Base   24.2482    54.5477  \n",
       "...                               ...       ...        ...  \n",
       "8932                 Masvingo Airport  -20.0553    30.8591  \n",
       "8933     Hwange National Park Airport  -18.6299    27.0210  \n",
       "8934           Victoria Falls Airport  -18.0959    25.8390  \n",
       "8935              Hwange Town Airport  -18.3630    26.5198  \n",
       "8936               Thornhill Air Base  -19.4364    29.8619  \n",
       "\n",
       "[8937 rows x 7 columns]"
      ]
     },
     "execution_count": 15,
     "metadata": {},
     "output_type": "execute_result"
    }
   ],
   "source": [
    "look_up_codes"
   ]
  },
  {
   "cell_type": "code",
   "execution_count": 16,
   "id": "2571bb04",
   "metadata": {},
   "outputs": [
    {
     "data": {
      "text/plain": [
       "country_code    0\n",
       "region_name     0\n",
       "iata            0\n",
       "icao            0\n",
       "airport         0\n",
       "latitude        0\n",
       "longitude       0\n",
       "dtype: int64"
      ]
     },
     "execution_count": 16,
     "metadata": {},
     "output_type": "execute_result"
    }
   ],
   "source": [
    "# Drop rows with na values\n",
    "look_up_codes.dropna(axis=0, inplace=True)\n",
    "look_up_codes.isna().sum()"
   ]
  },
  {
   "cell_type": "markdown",
   "id": "b3a39b94",
   "metadata": {},
   "source": [
    "# Join datasets"
   ]
  },
  {
   "cell_type": "code",
   "execution_count": 17,
   "id": "c7559c1a",
   "metadata": {},
   "outputs": [],
   "source": [
    "# Set index of each dataframe\n",
    "complaints_by_airport.set_index('airport', inplace=True)\n",
    "complaints_by_category.set_index('airport', inplace=True)\n",
    "complaints_by_subcategory.set_index('airport', inplace=True)\n",
    "look_up_codes.set_index('iata', inplace=True)"
   ]
  },
  {
   "cell_type": "code",
   "execution_count": 18,
   "id": "681cfc0a",
   "metadata": {},
   "outputs": [
    {
     "data": {
      "text/html": [
       "<div>\n",
       "<style scoped>\n",
       "    .dataframe tbody tr th:only-of-type {\n",
       "        vertical-align: middle;\n",
       "    }\n",
       "\n",
       "    .dataframe tbody tr th {\n",
       "        vertical-align: top;\n",
       "    }\n",
       "\n",
       "    .dataframe thead th {\n",
       "        text-align: right;\n",
       "    }\n",
       "</style>\n",
       "<table border=\"1\" class=\"dataframe\">\n",
       "  <thead>\n",
       "    <tr style=\"text-align: right;\">\n",
       "      <th></th>\n",
       "      <th>iata</th>\n",
       "      <th>country_code</th>\n",
       "      <th>region_name</th>\n",
       "      <th>icao</th>\n",
       "      <th>airport</th>\n",
       "      <th>latitude</th>\n",
       "      <th>longitude</th>\n",
       "      <th>year_month</th>\n",
       "      <th>count</th>\n",
       "      <th>year</th>\n",
       "      <th>month</th>\n",
       "    </tr>\n",
       "  </thead>\n",
       "  <tbody>\n",
       "    <tr>\n",
       "      <th>0</th>\n",
       "      <td>ABE</td>\n",
       "      <td>US</td>\n",
       "      <td>Pennsylvania</td>\n",
       "      <td>KABE</td>\n",
       "      <td>Lehigh Valley International Airport</td>\n",
       "      <td>40.6521</td>\n",
       "      <td>-75.4408</td>\n",
       "      <td>2015-01</td>\n",
       "      <td>0</td>\n",
       "      <td>2015</td>\n",
       "      <td>01</td>\n",
       "    </tr>\n",
       "    <tr>\n",
       "      <th>1</th>\n",
       "      <td>ABE</td>\n",
       "      <td>US</td>\n",
       "      <td>Pennsylvania</td>\n",
       "      <td>KABE</td>\n",
       "      <td>Lehigh Valley International Airport</td>\n",
       "      <td>40.6521</td>\n",
       "      <td>-75.4408</td>\n",
       "      <td>2015-02</td>\n",
       "      <td>0</td>\n",
       "      <td>2015</td>\n",
       "      <td>02</td>\n",
       "    </tr>\n",
       "    <tr>\n",
       "      <th>2</th>\n",
       "      <td>ABE</td>\n",
       "      <td>US</td>\n",
       "      <td>Pennsylvania</td>\n",
       "      <td>KABE</td>\n",
       "      <td>Lehigh Valley International Airport</td>\n",
       "      <td>40.6521</td>\n",
       "      <td>-75.4408</td>\n",
       "      <td>2015-03</td>\n",
       "      <td>0</td>\n",
       "      <td>2015</td>\n",
       "      <td>03</td>\n",
       "    </tr>\n",
       "    <tr>\n",
       "      <th>3</th>\n",
       "      <td>ABE</td>\n",
       "      <td>US</td>\n",
       "      <td>Pennsylvania</td>\n",
       "      <td>KABE</td>\n",
       "      <td>Lehigh Valley International Airport</td>\n",
       "      <td>40.6521</td>\n",
       "      <td>-75.4408</td>\n",
       "      <td>2015-04</td>\n",
       "      <td>0</td>\n",
       "      <td>2015</td>\n",
       "      <td>04</td>\n",
       "    </tr>\n",
       "    <tr>\n",
       "      <th>4</th>\n",
       "      <td>ABE</td>\n",
       "      <td>US</td>\n",
       "      <td>Pennsylvania</td>\n",
       "      <td>KABE</td>\n",
       "      <td>Lehigh Valley International Airport</td>\n",
       "      <td>40.6521</td>\n",
       "      <td>-75.4408</td>\n",
       "      <td>2015-05</td>\n",
       "      <td>2</td>\n",
       "      <td>2015</td>\n",
       "      <td>05</td>\n",
       "    </tr>\n",
       "  </tbody>\n",
       "</table>\n",
       "</div>"
      ],
      "text/plain": [
       "  iata country_code   region_name  icao                              airport  \\\n",
       "0  ABE           US  Pennsylvania  KABE  Lehigh Valley International Airport   \n",
       "1  ABE           US  Pennsylvania  KABE  Lehigh Valley International Airport   \n",
       "2  ABE           US  Pennsylvania  KABE  Lehigh Valley International Airport   \n",
       "3  ABE           US  Pennsylvania  KABE  Lehigh Valley International Airport   \n",
       "4  ABE           US  Pennsylvania  KABE  Lehigh Valley International Airport   \n",
       "\n",
       "   latitude  longitude year_month  count  year month  \n",
       "0   40.6521   -75.4408    2015-01      0  2015    01  \n",
       "1   40.6521   -75.4408    2015-02      0  2015    02  \n",
       "2   40.6521   -75.4408    2015-03      0  2015    03  \n",
       "3   40.6521   -75.4408    2015-04      0  2015    04  \n",
       "4   40.6521   -75.4408    2015-05      2  2015    05  "
      ]
     },
     "execution_count": 18,
     "metadata": {},
     "output_type": "execute_result"
    }
   ],
   "source": [
    "# Join complaints_by_airport and look_up codes by airport code\n",
    "complaints_by_airport = pd.merge(look_up_codes, complaints_by_airport, left_index=True, right_index=True)\n",
    "complaints_by_airport.reset_index(inplace=True)\n",
    "complaints_by_airport.head()"
   ]
  },
  {
   "cell_type": "code",
   "execution_count": 19,
   "id": "5d63d7b9",
   "metadata": {},
   "outputs": [
    {
     "data": {
      "text/html": [
       "<div>\n",
       "<style scoped>\n",
       "    .dataframe tbody tr th:only-of-type {\n",
       "        vertical-align: middle;\n",
       "    }\n",
       "\n",
       "    .dataframe tbody tr th {\n",
       "        vertical-align: top;\n",
       "    }\n",
       "\n",
       "    .dataframe thead th {\n",
       "        text-align: right;\n",
       "    }\n",
       "</style>\n",
       "<table border=\"1\" class=\"dataframe\">\n",
       "  <thead>\n",
       "    <tr style=\"text-align: right;\">\n",
       "      <th></th>\n",
       "      <th>iata</th>\n",
       "      <th>country_code</th>\n",
       "      <th>region_name</th>\n",
       "      <th>icao</th>\n",
       "      <th>airport</th>\n",
       "      <th>latitude</th>\n",
       "      <th>longitude</th>\n",
       "      <th>category</th>\n",
       "      <th>year_month</th>\n",
       "      <th>count</th>\n",
       "      <th>clean_cat</th>\n",
       "      <th>clean_cat_status</th>\n",
       "      <th>year</th>\n",
       "      <th>month</th>\n",
       "    </tr>\n",
       "  </thead>\n",
       "  <tbody>\n",
       "    <tr>\n",
       "      <th>0</th>\n",
       "      <td>ABE</td>\n",
       "      <td>US</td>\n",
       "      <td>Pennsylvania</td>\n",
       "      <td>KABE</td>\n",
       "      <td>Lehigh Valley International Airport</td>\n",
       "      <td>40.6521</td>\n",
       "      <td>-75.4408</td>\n",
       "      <td>Hazardous Materials Safety</td>\n",
       "      <td>2015-01</td>\n",
       "      <td>0</td>\n",
       "      <td>Hazardous Materials Safety</td>\n",
       "      <td>original</td>\n",
       "      <td>2015</td>\n",
       "      <td>01</td>\n",
       "    </tr>\n",
       "    <tr>\n",
       "      <th>1</th>\n",
       "      <td>ABE</td>\n",
       "      <td>US</td>\n",
       "      <td>Pennsylvania</td>\n",
       "      <td>KABE</td>\n",
       "      <td>Lehigh Valley International Airport</td>\n",
       "      <td>40.6521</td>\n",
       "      <td>-75.4408</td>\n",
       "      <td>Mishandling of Passenger Property</td>\n",
       "      <td>2015-01</td>\n",
       "      <td>0</td>\n",
       "      <td>Mishandling of Passenger Property</td>\n",
       "      <td>original</td>\n",
       "      <td>2015</td>\n",
       "      <td>01</td>\n",
       "    </tr>\n",
       "    <tr>\n",
       "      <th>2</th>\n",
       "      <td>ABE</td>\n",
       "      <td>US</td>\n",
       "      <td>Pennsylvania</td>\n",
       "      <td>KABE</td>\n",
       "      <td>Lehigh Valley International Airport</td>\n",
       "      <td>40.6521</td>\n",
       "      <td>-75.4408</td>\n",
       "      <td>Hazardous Materials Safety</td>\n",
       "      <td>2015-02</td>\n",
       "      <td>0</td>\n",
       "      <td>Hazardous Materials Safety</td>\n",
       "      <td>original</td>\n",
       "      <td>2015</td>\n",
       "      <td>02</td>\n",
       "    </tr>\n",
       "    <tr>\n",
       "      <th>3</th>\n",
       "      <td>ABE</td>\n",
       "      <td>US</td>\n",
       "      <td>Pennsylvania</td>\n",
       "      <td>KABE</td>\n",
       "      <td>Lehigh Valley International Airport</td>\n",
       "      <td>40.6521</td>\n",
       "      <td>-75.4408</td>\n",
       "      <td>Mishandling of Passenger Property</td>\n",
       "      <td>2015-02</td>\n",
       "      <td>0</td>\n",
       "      <td>Mishandling of Passenger Property</td>\n",
       "      <td>original</td>\n",
       "      <td>2015</td>\n",
       "      <td>02</td>\n",
       "    </tr>\n",
       "    <tr>\n",
       "      <th>4</th>\n",
       "      <td>ABE</td>\n",
       "      <td>US</td>\n",
       "      <td>Pennsylvania</td>\n",
       "      <td>KABE</td>\n",
       "      <td>Lehigh Valley International Airport</td>\n",
       "      <td>40.6521</td>\n",
       "      <td>-75.4408</td>\n",
       "      <td>Hazardous Materials Safety</td>\n",
       "      <td>2015-03</td>\n",
       "      <td>0</td>\n",
       "      <td>Hazardous Materials Safety</td>\n",
       "      <td>original</td>\n",
       "      <td>2015</td>\n",
       "      <td>03</td>\n",
       "    </tr>\n",
       "  </tbody>\n",
       "</table>\n",
       "</div>"
      ],
      "text/plain": [
       "  iata country_code   region_name  icao                              airport  \\\n",
       "0  ABE           US  Pennsylvania  KABE  Lehigh Valley International Airport   \n",
       "1  ABE           US  Pennsylvania  KABE  Lehigh Valley International Airport   \n",
       "2  ABE           US  Pennsylvania  KABE  Lehigh Valley International Airport   \n",
       "3  ABE           US  Pennsylvania  KABE  Lehigh Valley International Airport   \n",
       "4  ABE           US  Pennsylvania  KABE  Lehigh Valley International Airport   \n",
       "\n",
       "   latitude  longitude                           category year_month  count  \\\n",
       "0   40.6521   -75.4408         Hazardous Materials Safety    2015-01      0   \n",
       "1   40.6521   -75.4408  Mishandling of Passenger Property    2015-01      0   \n",
       "2   40.6521   -75.4408         Hazardous Materials Safety    2015-02      0   \n",
       "3   40.6521   -75.4408  Mishandling of Passenger Property    2015-02      0   \n",
       "4   40.6521   -75.4408         Hazardous Materials Safety    2015-03      0   \n",
       "\n",
       "                           clean_cat clean_cat_status  year month  \n",
       "0         Hazardous Materials Safety         original  2015    01  \n",
       "1  Mishandling of Passenger Property         original  2015    01  \n",
       "2         Hazardous Materials Safety         original  2015    02  \n",
       "3  Mishandling of Passenger Property         original  2015    02  \n",
       "4         Hazardous Materials Safety         original  2015    03  "
      ]
     },
     "execution_count": 19,
     "metadata": {},
     "output_type": "execute_result"
    }
   ],
   "source": [
    "# Join complaints_by_category and look_up_codes by airport code\n",
    "complaints_by_category = pd.merge(look_up_codes, complaints_by_category, left_index=True, right_index=True)\n",
    "complaints_by_category.reset_index(inplace=True)\n",
    "complaints_by_category.head()"
   ]
  },
  {
   "cell_type": "code",
   "execution_count": 20,
   "id": "9775ddd6",
   "metadata": {},
   "outputs": [
    {
     "data": {
      "text/html": [
       "<div>\n",
       "<style scoped>\n",
       "    .dataframe tbody tr th:only-of-type {\n",
       "        vertical-align: middle;\n",
       "    }\n",
       "\n",
       "    .dataframe tbody tr th {\n",
       "        vertical-align: top;\n",
       "    }\n",
       "\n",
       "    .dataframe thead th {\n",
       "        text-align: right;\n",
       "    }\n",
       "</style>\n",
       "<table border=\"1\" class=\"dataframe\">\n",
       "  <thead>\n",
       "    <tr style=\"text-align: right;\">\n",
       "      <th></th>\n",
       "      <th>iata</th>\n",
       "      <th>country_code</th>\n",
       "      <th>region_name</th>\n",
       "      <th>icao</th>\n",
       "      <th>airport</th>\n",
       "      <th>latitude</th>\n",
       "      <th>longitude</th>\n",
       "      <th>category</th>\n",
       "      <th>subcategory</th>\n",
       "      <th>year_month</th>\n",
       "      <th>count</th>\n",
       "      <th>clean_cat</th>\n",
       "      <th>clean_subcat</th>\n",
       "      <th>clean_cat_status</th>\n",
       "      <th>clean_subcat_status</th>\n",
       "      <th>is_category_prefix_removed</th>\n",
       "      <th>year</th>\n",
       "      <th>month</th>\n",
       "    </tr>\n",
       "  </thead>\n",
       "  <tbody>\n",
       "    <tr>\n",
       "      <th>0</th>\n",
       "      <td>ABE</td>\n",
       "      <td>US</td>\n",
       "      <td>Pennsylvania</td>\n",
       "      <td>KABE</td>\n",
       "      <td>Lehigh Valley International Airport</td>\n",
       "      <td>40.6521</td>\n",
       "      <td>-75.4408</td>\n",
       "      <td>Hazardous Materials Safety</td>\n",
       "      <td>General</td>\n",
       "      <td>2015-01</td>\n",
       "      <td>0</td>\n",
       "      <td>Hazardous Materials Safety</td>\n",
       "      <td>General</td>\n",
       "      <td>original</td>\n",
       "      <td>original</td>\n",
       "      <td>False</td>\n",
       "      <td>2015</td>\n",
       "      <td>01</td>\n",
       "    </tr>\n",
       "    <tr>\n",
       "      <th>1</th>\n",
       "      <td>ABE</td>\n",
       "      <td>US</td>\n",
       "      <td>Pennsylvania</td>\n",
       "      <td>KABE</td>\n",
       "      <td>Lehigh Valley International Airport</td>\n",
       "      <td>40.6521</td>\n",
       "      <td>-75.4408</td>\n",
       "      <td>Mishandling of Passenger Property</td>\n",
       "      <td>Damaged/Missing Items--Checked Baggage</td>\n",
       "      <td>2015-01</td>\n",
       "      <td>0</td>\n",
       "      <td>Mishandling of Passenger Property</td>\n",
       "      <td>*Damaged/Missing Items--Checked Baggage</td>\n",
       "      <td>original</td>\n",
       "      <td>original</td>\n",
       "      <td>False</td>\n",
       "      <td>2015</td>\n",
       "      <td>01</td>\n",
       "    </tr>\n",
       "    <tr>\n",
       "      <th>2</th>\n",
       "      <td>ABE</td>\n",
       "      <td>US</td>\n",
       "      <td>Pennsylvania</td>\n",
       "      <td>KABE</td>\n",
       "      <td>Lehigh Valley International Airport</td>\n",
       "      <td>40.6521</td>\n",
       "      <td>-75.4408</td>\n",
       "      <td>Hazardous Materials Safety</td>\n",
       "      <td>General</td>\n",
       "      <td>2015-02</td>\n",
       "      <td>0</td>\n",
       "      <td>Hazardous Materials Safety</td>\n",
       "      <td>General</td>\n",
       "      <td>original</td>\n",
       "      <td>original</td>\n",
       "      <td>False</td>\n",
       "      <td>2015</td>\n",
       "      <td>02</td>\n",
       "    </tr>\n",
       "    <tr>\n",
       "      <th>3</th>\n",
       "      <td>ABE</td>\n",
       "      <td>US</td>\n",
       "      <td>Pennsylvania</td>\n",
       "      <td>KABE</td>\n",
       "      <td>Lehigh Valley International Airport</td>\n",
       "      <td>40.6521</td>\n",
       "      <td>-75.4408</td>\n",
       "      <td>Mishandling of Passenger Property</td>\n",
       "      <td>Damaged/Missing Items--Checked Baggage</td>\n",
       "      <td>2015-02</td>\n",
       "      <td>0</td>\n",
       "      <td>Mishandling of Passenger Property</td>\n",
       "      <td>*Damaged/Missing Items--Checked Baggage</td>\n",
       "      <td>original</td>\n",
       "      <td>original</td>\n",
       "      <td>False</td>\n",
       "      <td>2015</td>\n",
       "      <td>02</td>\n",
       "    </tr>\n",
       "    <tr>\n",
       "      <th>4</th>\n",
       "      <td>ABE</td>\n",
       "      <td>US</td>\n",
       "      <td>Pennsylvania</td>\n",
       "      <td>KABE</td>\n",
       "      <td>Lehigh Valley International Airport</td>\n",
       "      <td>40.6521</td>\n",
       "      <td>-75.4408</td>\n",
       "      <td>Hazardous Materials Safety</td>\n",
       "      <td>General</td>\n",
       "      <td>2015-03</td>\n",
       "      <td>0</td>\n",
       "      <td>Hazardous Materials Safety</td>\n",
       "      <td>General</td>\n",
       "      <td>original</td>\n",
       "      <td>original</td>\n",
       "      <td>False</td>\n",
       "      <td>2015</td>\n",
       "      <td>03</td>\n",
       "    </tr>\n",
       "  </tbody>\n",
       "</table>\n",
       "</div>"
      ],
      "text/plain": [
       "  iata country_code   region_name  icao                              airport  \\\n",
       "0  ABE           US  Pennsylvania  KABE  Lehigh Valley International Airport   \n",
       "1  ABE           US  Pennsylvania  KABE  Lehigh Valley International Airport   \n",
       "2  ABE           US  Pennsylvania  KABE  Lehigh Valley International Airport   \n",
       "3  ABE           US  Pennsylvania  KABE  Lehigh Valley International Airport   \n",
       "4  ABE           US  Pennsylvania  KABE  Lehigh Valley International Airport   \n",
       "\n",
       "   latitude  longitude                           category  \\\n",
       "0   40.6521   -75.4408         Hazardous Materials Safety   \n",
       "1   40.6521   -75.4408  Mishandling of Passenger Property   \n",
       "2   40.6521   -75.4408         Hazardous Materials Safety   \n",
       "3   40.6521   -75.4408  Mishandling of Passenger Property   \n",
       "4   40.6521   -75.4408         Hazardous Materials Safety   \n",
       "\n",
       "                              subcategory year_month  count  \\\n",
       "0                                 General    2015-01      0   \n",
       "1  Damaged/Missing Items--Checked Baggage    2015-01      0   \n",
       "2                                 General    2015-02      0   \n",
       "3  Damaged/Missing Items--Checked Baggage    2015-02      0   \n",
       "4                                 General    2015-03      0   \n",
       "\n",
       "                           clean_cat                             clean_subcat  \\\n",
       "0         Hazardous Materials Safety                                  General   \n",
       "1  Mishandling of Passenger Property  *Damaged/Missing Items--Checked Baggage   \n",
       "2         Hazardous Materials Safety                                  General   \n",
       "3  Mishandling of Passenger Property  *Damaged/Missing Items--Checked Baggage   \n",
       "4         Hazardous Materials Safety                                  General   \n",
       "\n",
       "  clean_cat_status clean_subcat_status  is_category_prefix_removed  year month  \n",
       "0         original            original                       False  2015    01  \n",
       "1         original            original                       False  2015    01  \n",
       "2         original            original                       False  2015    02  \n",
       "3         original            original                       False  2015    02  \n",
       "4         original            original                       False  2015    03  "
      ]
     },
     "execution_count": 20,
     "metadata": {},
     "output_type": "execute_result"
    }
   ],
   "source": [
    "# Join complaints_by_subcategory and look_up_codes by airport code\n",
    "complaints_by_subcategory = pd.merge(look_up_codes, complaints_by_subcategory, left_index=True, right_index=True)\n",
    "complaints_by_subcategory.reset_index(inplace=True)\n",
    "complaints_by_subcategory.head()"
   ]
  },
  {
   "cell_type": "markdown",
   "id": "8cd8f103",
   "metadata": {},
   "source": [
    "## Visual Exploration"
   ]
  },
  {
   "cell_type": "code",
   "execution_count": 51,
   "id": "1e4c6e35",
   "metadata": {},
   "outputs": [
    {
     "data": {
      "image/png": "[encoded data removed]",
      "text/plain": [
       "<Figure size 640x480 with 1 Axes>"
      ]
     },
     "metadata": {},
     "output_type": "display_data"
    }
   ],
   "source": [
    "# Calculate number of complaints by year for all airports\n",
    "complaints_by_year = complaints_by_airport[['year', 'count']]\n",
    "complaints_by_year = complaints_by_year.groupby('year')['count'].max().reset_index()\n",
    "\n",
    "# Remove 2023 ane 2024 values\n",
    "complaints_by_year = complaints_by_year[complaints_by_year['year'] != '2023']\n",
    "complaints_by_year = complaints_by_year[complaints_by_year['year'] != '2024']\n",
    "\n",
    "# Plot number of complaints by year for all airports\n",
    "plt.plot(complaints_by_year['year'], complaints_by_year['count'], color='peru')\n",
    "plt.xlabel('Year')\n",
    "plt.ylabel('Complaints')\n",
    "plt.title('Total TSA Complaints over Time')\n",
    "plt.show()"
   ]
  },
  {
   "cell_type": "markdown",
   "id": "60cdefd5",
   "metadata": {},
   "source": [
    "There is a huge peak in complaints in 2022. Complaints then decrease in both 2023 and 2024, but not to the level they were at in 2021. \n",
    "\n",
    "What happened in 2022 that caused so many complaints?"
   ]
  },
  {
   "cell_type": "markdown",
   "id": "3065c3e0",
   "metadata": {},
   "source": [
    "## Correlation of Count of TSA complaints with different variables"
   ]
  },
  {
   "cell_type": "code",
   "execution_count": 61,
   "id": "cf0a58cd",
   "metadata": {},
   "outputs": [
    {
     "data": {
      "text/html": [
       "<div>\n",
       "<style scoped>\n",
       "    .dataframe tbody tr th:only-of-type {\n",
       "        vertical-align: middle;\n",
       "    }\n",
       "\n",
       "    .dataframe tbody tr th {\n",
       "        vertical-align: top;\n",
       "    }\n",
       "\n",
       "    .dataframe thead th {\n",
       "        text-align: right;\n",
       "    }\n",
       "</style>\n",
       "<table border=\"1\" class=\"dataframe\">\n",
       "  <thead>\n",
       "    <tr style=\"text-align: right;\">\n",
       "      <th></th>\n",
       "      <th>iata</th>\n",
       "      <th>region_name</th>\n",
       "      <th>icao</th>\n",
       "      <th>airport</th>\n",
       "      <th>category</th>\n",
       "      <th>year</th>\n",
       "      <th>month</th>\n",
       "      <th>count</th>\n",
       "    </tr>\n",
       "  </thead>\n",
       "  <tbody>\n",
       "    <tr>\n",
       "      <th>0</th>\n",
       "      <td>0</td>\n",
       "      <td>0</td>\n",
       "      <td>0</td>\n",
       "      <td>0</td>\n",
       "      <td>0</td>\n",
       "      <td>2015</td>\n",
       "      <td>01</td>\n",
       "      <td>0</td>\n",
       "    </tr>\n",
       "    <tr>\n",
       "      <th>1</th>\n",
       "      <td>0</td>\n",
       "      <td>0</td>\n",
       "      <td>0</td>\n",
       "      <td>0</td>\n",
       "      <td>1</td>\n",
       "      <td>2015</td>\n",
       "      <td>01</td>\n",
       "      <td>0</td>\n",
       "    </tr>\n",
       "    <tr>\n",
       "      <th>2</th>\n",
       "      <td>0</td>\n",
       "      <td>0</td>\n",
       "      <td>0</td>\n",
       "      <td>0</td>\n",
       "      <td>0</td>\n",
       "      <td>2015</td>\n",
       "      <td>02</td>\n",
       "      <td>0</td>\n",
       "    </tr>\n",
       "    <tr>\n",
       "      <th>3</th>\n",
       "      <td>0</td>\n",
       "      <td>0</td>\n",
       "      <td>0</td>\n",
       "      <td>0</td>\n",
       "      <td>1</td>\n",
       "      <td>2015</td>\n",
       "      <td>02</td>\n",
       "      <td>0</td>\n",
       "    </tr>\n",
       "    <tr>\n",
       "      <th>4</th>\n",
       "      <td>0</td>\n",
       "      <td>0</td>\n",
       "      <td>0</td>\n",
       "      <td>0</td>\n",
       "      <td>0</td>\n",
       "      <td>2015</td>\n",
       "      <td>03</td>\n",
       "      <td>0</td>\n",
       "    </tr>\n",
       "    <tr>\n",
       "      <th>...</th>\n",
       "      <td>...</td>\n",
       "      <td>...</td>\n",
       "      <td>...</td>\n",
       "      <td>...</td>\n",
       "      <td>...</td>\n",
       "      <td>...</td>\n",
       "      <td>...</td>\n",
       "      <td>...</td>\n",
       "    </tr>\n",
       "    <tr>\n",
       "      <th>236451</th>\n",
       "      <td>441</td>\n",
       "      <td>33</td>\n",
       "      <td>441</td>\n",
       "      <td>441</td>\n",
       "      <td>6</td>\n",
       "      <td>2015</td>\n",
       "      <td>11</td>\n",
       "      <td>0</td>\n",
       "    </tr>\n",
       "    <tr>\n",
       "      <th>236452</th>\n",
       "      <td>441</td>\n",
       "      <td>33</td>\n",
       "      <td>441</td>\n",
       "      <td>441</td>\n",
       "      <td>17</td>\n",
       "      <td>2015</td>\n",
       "      <td>12</td>\n",
       "      <td>1</td>\n",
       "    </tr>\n",
       "    <tr>\n",
       "      <th>236453</th>\n",
       "      <td>441</td>\n",
       "      <td>33</td>\n",
       "      <td>441</td>\n",
       "      <td>441</td>\n",
       "      <td>1</td>\n",
       "      <td>2015</td>\n",
       "      <td>12</td>\n",
       "      <td>0</td>\n",
       "    </tr>\n",
       "    <tr>\n",
       "      <th>236454</th>\n",
       "      <td>441</td>\n",
       "      <td>33</td>\n",
       "      <td>441</td>\n",
       "      <td>441</td>\n",
       "      <td>9</td>\n",
       "      <td>2015</td>\n",
       "      <td>12</td>\n",
       "      <td>0</td>\n",
       "    </tr>\n",
       "    <tr>\n",
       "      <th>236455</th>\n",
       "      <td>441</td>\n",
       "      <td>33</td>\n",
       "      <td>441</td>\n",
       "      <td>441</td>\n",
       "      <td>6</td>\n",
       "      <td>2015</td>\n",
       "      <td>12</td>\n",
       "      <td>0</td>\n",
       "    </tr>\n",
       "  </tbody>\n",
       "</table>\n",
       "<p>236456 rows × 8 columns</p>\n",
       "</div>"
      ],
      "text/plain": [
       "        iata  region_name  icao  airport  category  year month  count\n",
       "0          0            0     0        0         0  2015    01      0\n",
       "1          0            0     0        0         1  2015    01      0\n",
       "2          0            0     0        0         0  2015    02      0\n",
       "3          0            0     0        0         1  2015    02      0\n",
       "4          0            0     0        0         0  2015    03      0\n",
       "...      ...          ...   ...      ...       ...   ...   ...    ...\n",
       "236451   441           33   441      441         6  2015    11      0\n",
       "236452   441           33   441      441        17  2015    12      1\n",
       "236453   441           33   441      441         1  2015    12      0\n",
       "236454   441           33   441      441         9  2015    12      0\n",
       "236455   441           33   441      441         6  2015    12      0\n",
       "\n",
       "[236456 rows x 8 columns]"
      ]
     },
     "execution_count": 61,
     "metadata": {},
     "output_type": "execute_result"
    }
   ],
   "source": [
    "# Select columns to go into correlation table\n",
    "correlation_columns = complaints_by_category.loc[:, ('iata', 'region_name', 'icao', 'airport', 'category', 'year', 'month','count')]\n",
    "\n",
    "# Recode iata, icao, region name, and category as numerical values to include in correlation table\n",
    "correlation_columns['iata'] = pd.factorize(correlation_columns['iata'])[0]\n",
    "correlation_columns['region_name'] = pd.factorize(correlation_columns['region_name'])[0]\n",
    "correlation_columns['icao'] = pd.factorize(correlation_columns['icao'])[0]\n",
    "correlation_columns['airport'] = pd.factorize(correlation_columns['airport'])[0]\n",
    "correlation_columns['category'] = pd.factorize(correlation_columns['category'])[0]\n",
    "correlation_columns"
   ]
  },
  {
   "cell_type": "code",
   "execution_count": 62,
   "id": "b32222f2",
   "metadata": {},
   "outputs": [
    {
     "data": {
      "text/plain": [
       "Text(0.5, 1.0, 'Correlation of Variables with Count of TSA Complaints')"
      ]
     },
     "execution_count": 62,
     "metadata": {},
     "output_type": "execute_result"
    },
    {
     "data": {
      "image/png": "[encoded data removed]",
      "text/plain": [
       "<Figure size 1000x300 with 2 Axes>"
      ]
     },
     "metadata": {},
     "output_type": "display_data"
    }
   ],
   "source": [
    "# Correlation matrix of each feature with quality\n",
    "plt.figure(figsize=(10,3))\n",
    "sns.heatmap(correlation_columns.corr().loc[['count'],:],annot=True,cmap='OrRd',cbar=True)\n",
    "plt.title('Correlation of Variables with Count of TSA Complaints')"
   ]
  },
  {
   "cell_type": "markdown",
   "id": "77b2f214",
   "metadata": {},
   "source": [
    "There is not a strong correlation of any one variable with count of TSA complaints. This indicates we cannot drastically reduce complaints by focusing only in one area. \n",
    "\n",
    "IATA, ICAO, and airport all have the exact same correlation with count. This is because They are different ways variables that tell the same thing, in the future only one of these variables needs to be examined."
   ]
  },
  {
   "cell_type": "markdown",
   "id": "af11d2df",
   "metadata": {},
   "source": [
    "## Number of Complaints by State"
   ]
  },
  {
   "cell_type": "code",
   "execution_count": 24,
   "id": "18d3791a",
   "metadata": {},
   "outputs": [
    {
     "data": {
      "text/html": [
       "<div>\n",
       "<style scoped>\n",
       "    .dataframe tbody tr th:only-of-type {\n",
       "        vertical-align: middle;\n",
       "    }\n",
       "\n",
       "    .dataframe tbody tr th {\n",
       "        vertical-align: top;\n",
       "    }\n",
       "\n",
       "    .dataframe thead th {\n",
       "        text-align: right;\n",
       "    }\n",
       "</style>\n",
       "<table border=\"1\" class=\"dataframe\">\n",
       "  <thead>\n",
       "    <tr style=\"text-align: right;\">\n",
       "      <th></th>\n",
       "      <th>region_name</th>\n",
       "      <th>count</th>\n",
       "    </tr>\n",
       "  </thead>\n",
       "  <tbody>\n",
       "    <tr>\n",
       "      <th>0</th>\n",
       "      <td>Alabama</td>\n",
       "      <td>21</td>\n",
       "    </tr>\n",
       "    <tr>\n",
       "      <th>1</th>\n",
       "      <td>Alaska</td>\n",
       "      <td>32</td>\n",
       "    </tr>\n",
       "    <tr>\n",
       "      <th>2</th>\n",
       "      <td>Arizona</td>\n",
       "      <td>193</td>\n",
       "    </tr>\n",
       "    <tr>\n",
       "      <th>3</th>\n",
       "      <td>Arkansas</td>\n",
       "      <td>23</td>\n",
       "    </tr>\n",
       "    <tr>\n",
       "      <th>4</th>\n",
       "      <td>Barrigada</td>\n",
       "      <td>13</td>\n",
       "    </tr>\n",
       "    <tr>\n",
       "      <th>...</th>\n",
       "      <td>...</td>\n",
       "      <td>...</td>\n",
       "    </tr>\n",
       "    <tr>\n",
       "      <th>58</th>\n",
       "      <td>Virginia</td>\n",
       "      <td>194</td>\n",
       "    </tr>\n",
       "    <tr>\n",
       "      <th>59</th>\n",
       "      <td>Washington</td>\n",
       "      <td>274</td>\n",
       "    </tr>\n",
       "    <tr>\n",
       "      <th>60</th>\n",
       "      <td>West Virginia</td>\n",
       "      <td>4</td>\n",
       "    </tr>\n",
       "    <tr>\n",
       "      <th>61</th>\n",
       "      <td>Wisconsin</td>\n",
       "      <td>39</td>\n",
       "    </tr>\n",
       "    <tr>\n",
       "      <th>62</th>\n",
       "      <td>Wyoming</td>\n",
       "      <td>10</td>\n",
       "    </tr>\n",
       "  </tbody>\n",
       "</table>\n",
       "<p>63 rows × 2 columns</p>\n",
       "</div>"
      ],
      "text/plain": [
       "      region_name  count\n",
       "0         Alabama     21\n",
       "1          Alaska     32\n",
       "2         Arizona    193\n",
       "3        Arkansas     23\n",
       "4       Barrigada     13\n",
       "..            ...    ...\n",
       "58       Virginia    194\n",
       "59     Washington    274\n",
       "60  West Virginia      4\n",
       "61      Wisconsin     39\n",
       "62        Wyoming     10\n",
       "\n",
       "[63 rows x 2 columns]"
      ]
     },
     "execution_count": 24,
     "metadata": {},
     "output_type": "execute_result"
    }
   ],
   "source": [
    "# Find max complaints for each state in 2022\n",
    "complaints_by_subcategory_state = complaints_by_subcategory.loc[complaints_by_subcategory['year'] == '2022']\n",
    "complaints_by_subcategory_state = complaints_by_subcategory[['region_name', 'count']]\n",
    "complaints_by_subcategory_state = complaints_by_subcategory_state.groupby(['region_name']).max().reset_index()\n",
    "complaints_by_subcategory_state"
   ]
  },
  {
   "cell_type": "code",
   "execution_count": 25,
   "id": "a1eba7ba",
   "metadata": {},
   "outputs": [],
   "source": [
    "# List of state names\n",
    "state_names = [\"Alaska\", \"Alabama\", \"Arkansas\", \"American Samoa\", \"Arizona\", \"California\", \"Colorado\", \"Connecticut\", \"District \", \"of Columbia\", \"Delaware\", \"Florida\", \"Georgia\", \"Guam\", \"Hawaii\", \"Iowa\", \"Idaho\", \"Illinois\", \"Indiana\", \"Kansas\", \"Kentucky\", \"Louisiana\", \"Massachusetts\", \"Maryland\", \"Maine\", \"Michigan\", \"Minnesota\", \"Missouri\", \"Mississippi\", \"Montana\", \"North Carolina\", \"North Dakota\", \"Nebraska\", \"New Hampshire\", \"New Jersey\", \"New Mexico\", \"Nevada\", \"New York\", \"Ohio\", \"Oklahoma\", \"Oregon\", \"Pennsylvania\", \"Puerto Rico\", \"Rhode Island\", \"South Carolina\", \"South Dakota\", \"Tennessee\", \"Texas\", \"Utah\", \"Virginia\", \"Virgin Islands\", \"Vermont\", \"Washington\", \"Wisconsin\", \"West Virginia\", \"Wyoming\"]\n",
    "\n",
    "# Remove regions that are not states in US\n",
    "complaints_by_subcategory_state = complaints_by_subcategory_state[complaints_by_subcategory_state['region_name'].isin(state_names)]\n",
    "complaints_by_subcategory_state.head()\n",
    "\n",
    "# Export to r\n",
    "complaints_by_subcategory_state.to_csv('complaints_by_subcategory_state.csv', index=False)"
   ]
  },
  {
   "cell_type": "code",
   "execution_count": 26,
   "id": "98d331a4",
   "metadata": {},
   "outputs": [
    {
     "data": {
      "text/html": [
       "<div>\n",
       "<style scoped>\n",
       "    .dataframe tbody tr th:only-of-type {\n",
       "        vertical-align: middle;\n",
       "    }\n",
       "\n",
       "    .dataframe tbody tr th {\n",
       "        vertical-align: top;\n",
       "    }\n",
       "\n",
       "    .dataframe thead th {\n",
       "        text-align: right;\n",
       "    }\n",
       "</style>\n",
       "<table border=\"1\" class=\"dataframe\">\n",
       "  <thead>\n",
       "    <tr style=\"text-align: right;\">\n",
       "      <th></th>\n",
       "      <th>region_name</th>\n",
       "      <th>count</th>\n",
       "      <th>abbreviation</th>\n",
       "    </tr>\n",
       "  </thead>\n",
       "  <tbody>\n",
       "    <tr>\n",
       "      <th>0</th>\n",
       "      <td>Alabama</td>\n",
       "      <td>21</td>\n",
       "      <td>AL</td>\n",
       "    </tr>\n",
       "    <tr>\n",
       "      <th>1</th>\n",
       "      <td>Alaska</td>\n",
       "      <td>32</td>\n",
       "      <td>AK</td>\n",
       "    </tr>\n",
       "    <tr>\n",
       "      <th>2</th>\n",
       "      <td>Arizona</td>\n",
       "      <td>193</td>\n",
       "      <td>AZ</td>\n",
       "    </tr>\n",
       "    <tr>\n",
       "      <th>3</th>\n",
       "      <td>Arkansas</td>\n",
       "      <td>23</td>\n",
       "      <td>AR</td>\n",
       "    </tr>\n",
       "    <tr>\n",
       "      <th>4</th>\n",
       "      <td>California</td>\n",
       "      <td>361</td>\n",
       "      <td>CA</td>\n",
       "    </tr>\n",
       "  </tbody>\n",
       "</table>\n",
       "</div>"
      ],
      "text/plain": [
       "  region_name  count abbreviation\n",
       "0     Alabama     21           AL\n",
       "1      Alaska     32           AK\n",
       "2     Arizona    193           AZ\n",
       "3    Arkansas     23           AR\n",
       "4  California    361           CA"
      ]
     },
     "execution_count": 26,
     "metadata": {},
     "output_type": "execute_result"
    }
   ],
   "source": [
    "# Import from r with abbreviations\n",
    "complaints_by_subcategory_state_abb = pd.read_csv(\"C:/Users/kayly/OneDrive/Desktop/MSDS/DSC640/complaints_by_subcategory_state_abb.csv\")\n",
    "complaints_by_subcategory_state_abb.drop('Unnamed: 0', axis=1, inplace=True)\n",
    "complaints_by_subcategory_state_abb.head()"
   ]
  },
  {
   "cell_type": "code",
   "execution_count": 36,
   "id": "c0da8645",
   "metadata": {},
   "outputs": [
    {
     "data": {
      "application/vnd.plotly.v1+json": {
       "config": {
        "plotlyServerURL": "https://plot.ly"
       },
       "data": [
        {
         "coloraxis": "coloraxis",
         "geo": "geo",
         "hovertemplate": "abbreviation=%{location}<br>count=%{z}<extra></extra>",
         "locationmode": "USA-states",
         "locations": [
          "AL",
          "AK",
          "AZ",
          "AR",
          "CA",
          "CO",
          "CT",
          "DE",
          "FL",
          "GA",
          "HI",
          "ID",
          "IL",
          "IN",
          "IA",
          "KS",
          "KY",
          "LA",
          "ME",
          "MD",
          "MA",
          "MI",
          "MN",
          "MS",
          "MO",
          "MT",
          "NE",
          "NV",
          "NH",
          "NJ",
          "NM",
          "NY",
          "NC",
          "ND",
          "OH",
          "OK",
          "OR",
          "PA",
          "RI",
          "SC",
          "SD",
          "TN",
          "TX",
          "UT",
          "VT",
          "VA",
          "WA",
          "WV",
          "WI",
          "WY"
         ],
         "name": "",
         "type": "choropleth",
         "z": [
          21,
          32,
          193,
          23,
          361,
          364,
          58,
          3,
          281,
          368,
          103,
          26,
          410,
          62,
          41,
          15,
          70,
          96,
          22,
          107,
          282,
          177,
          177,
          13,
          75,
          17,
          6,
          188,
          11,
          568,
          50,
          342,
          141,
          15,
          90,
          30,
          118,
          225,
          27,
          56,
          11,
          103,
          249,
          95,
          14,
          194,
          274,
          4,
          39,
          10
         ]
        }
       ],
       "layout": {
        "coloraxis": {
         "colorbar": {
          "title": {
           "text": "count"
          }
         },
         "colorscale": [
          [
           0,
           "rgb(255,247,236)"
          ],
          [
           0.125,
           "rgb(254,232,200)"
          ],
          [
           0.25,
           "rgb(253,212,158)"
          ],
          [
           0.375,
           "rgb(253,187,132)"
          ],
          [
           0.5,
           "rgb(252,141,89)"
          ],
          [
           0.625,
           "rgb(239,101,72)"
          ],
          [
           0.75,
           "rgb(215,48,31)"
          ],
          [
           0.875,
           "rgb(179,0,0)"
          ],
          [
           1,
           "rgb(127,0,0)"
          ]
         ]
        },
        "geo": {
         "center": {},
         "domain": {
          "x": [
           0,
           1
          ],
          "y": [
           0,
           1
          ]
         },
         "scope": "usa"
        },
        "legend": {
         "tracegroupgap": 0
        },
        "margin": {
         "t": 60
        },
        "template": {
         "data": {
          "bar": [
           {
            "error_x": {
             "color": "#2a3f5f"
            },
            "error_y": {
             "color": "#2a3f5f"
            },
            "marker": {
             "line": {
              "color": "#E5ECF6",
              "width": 0.5
             },
             "pattern": {
              "fillmode": "overlay",
              "size": 10,
              "solidity": 0.2
             }
            },
            "type": "bar"
           }
          ],
          "barpolar": [
           {
            "marker": {
             "line": {
              "color": "#E5ECF6",
              "width": 0.5
             },
             "pattern": {
              "fillmode": "overlay",
              "size": 10,
              "solidity": 0.2
             }
            },
            "type": "barpolar"
           }
          ],
          "carpet": [
           {
            "aaxis": {
             "endlinecolor": "#2a3f5f",
             "gridcolor": "white",
             "linecolor": "white",
             "minorgridcolor": "white",
             "startlinecolor": "#2a3f5f"
            },
            "baxis": {
             "endlinecolor": "#2a3f5f",
             "gridcolor": "white",
             "linecolor": "white",
             "minorgridcolor": "white",
             "startlinecolor": "#2a3f5f"
            },
            "type": "carpet"
           }
          ],
          "choropleth": [
           {
            "colorbar": {
             "outlinewidth": 0,
             "ticks": ""
            },
            "type": "choropleth"
           }
          ],
          "contour": [
           {
            "colorbar": {
             "outlinewidth": 0,
             "ticks": ""
            },
            "colorscale": [
             [
              0,
              "#0d0887"
             ],
             [
              0.1111111111111111,
              "#46039f"
             ],
             [
              0.2222222222222222,
              "#7201a8"
             ],
             [
              0.3333333333333333,
              "#9c179e"
             ],
             [
              0.4444444444444444,
              "#bd3786"
             ],
             [
              0.5555555555555556,
              "#d8576b"
             ],
             [
              0.6666666666666666,
              "#ed7953"
             ],
             [
              0.7777777777777778,
              "#fb9f3a"
             ],
             [
              0.8888888888888888,
              "#fdca26"
             ],
             [
              1,
              "#f0f921"
             ]
            ],
            "type": "contour"
           }
          ],
          "contourcarpet": [
           {
            "colorbar": {
             "outlinewidth": 0,
             "ticks": ""
            },
            "type": "contourcarpet"
           }
          ],
          "heatmap": [
           {
            "colorbar": {
             "outlinewidth": 0,
             "ticks": ""
            },
            "colorscale": [
             [
              0,
              "#0d0887"
             ],
             [
              0.1111111111111111,
              "#46039f"
             ],
             [
              0.2222222222222222,
              "#7201a8"
             ],
             [
              0.3333333333333333,
              "#9c179e"
             ],
             [
              0.4444444444444444,
              "#bd3786"
             ],
             [
              0.5555555555555556,
              "#d8576b"
             ],
             [
              0.6666666666666666,
              "#ed7953"
             ],
             [
              0.7777777777777778,
              "#fb9f3a"
             ],
             [
              0.8888888888888888,
              "#fdca26"
             ],
             [
              1,
              "#f0f921"
             ]
            ],
            "type": "heatmap"
           }
          ],
          "heatmapgl": [
           {
            "colorbar": {
             "outlinewidth": 0,
             "ticks": ""
            },
            "colorscale": [
             [
              0,
              "#0d0887"
             ],
             [
              0.1111111111111111,
              "#46039f"
             ],
             [
              0.2222222222222222,
              "#7201a8"
             ],
             [
              0.3333333333333333,
              "#9c179e"
             ],
             [
              0.4444444444444444,
              "#bd3786"
             ],
             [
              0.5555555555555556,
              "#d8576b"
             ],
             [
              0.6666666666666666,
              "#ed7953"
             ],
             [
              0.7777777777777778,
              "#fb9f3a"
             ],
             [
              0.8888888888888888,
              "#fdca26"
             ],
             [
              1,
              "#f0f921"
             ]
            ],
            "type": "heatmapgl"
           }
          ],
          "histogram": [
           {
            "marker": {
             "pattern": {
              "fillmode": "overlay",
              "size": 10,
              "solidity": 0.2
             }
            },
            "type": "histogram"
           }
          ],
          "histogram2d": [
           {
            "colorbar": {
             "outlinewidth": 0,
             "ticks": ""
            },
            "colorscale": [
             [
              0,
              "#0d0887"
             ],
             [
              0.1111111111111111,
              "#46039f"
             ],
             [
              0.2222222222222222,
              "#7201a8"
             ],
             [
              0.3333333333333333,
              "#9c179e"
             ],
             [
              0.4444444444444444,
              "#bd3786"
             ],
             [
              0.5555555555555556,
              "#d8576b"
             ],
             [
              0.6666666666666666,
              "#ed7953"
             ],
             [
              0.7777777777777778,
              "#fb9f3a"
             ],
             [
              0.8888888888888888,
              "#fdca26"
             ],
             [
              1,
              "#f0f921"
             ]
            ],
            "type": "histogram2d"
           }
          ],
          "histogram2dcontour": [
           {
            "colorbar": {
             "outlinewidth": 0,
             "ticks": ""
            },
            "colorscale": [
             [
              0,
              "#0d0887"
             ],
             [
              0.1111111111111111,
              "#46039f"
             ],
             [
              0.2222222222222222,
              "#7201a8"
             ],
             [
              0.3333333333333333,
              "#9c179e"
             ],
             [
              0.4444444444444444,
              "#bd3786"
             ],
             [
              0.5555555555555556,
              "#d8576b"
             ],
             [
              0.6666666666666666,
              "#ed7953"
             ],
             [
              0.7777777777777778,
              "#fb9f3a"
             ],
             [
              0.8888888888888888,
              "#fdca26"
             ],
             [
              1,
              "#f0f921"
             ]
            ],
            "type": "histogram2dcontour"
           }
          ],
          "mesh3d": [
           {
            "colorbar": {
             "outlinewidth": 0,
             "ticks": ""
            },
            "type": "mesh3d"
           }
          ],
          "parcoords": [
           {
            "line": {
             "colorbar": {
              "outlinewidth": 0,
              "ticks": ""
             }
            },
            "type": "parcoords"
           }
          ],
          "pie": [
           {
            "automargin": true,
            "type": "pie"
           }
          ],
          "scatter": [
           {
            "fillpattern": {
             "fillmode": "overlay",
             "size": 10,
             "solidity": 0.2
            },
            "type": "scatter"
           }
          ],
          "scatter3d": [
           {
            "line": {
             "colorbar": {
              "outlinewidth": 0,
              "ticks": ""
             }
            },
            "marker": {
             "colorbar": {
              "outlinewidth": 0,
              "ticks": ""
             }
            },
            "type": "scatter3d"
           }
          ],
          "scattercarpet": [
           {
            "marker": {
             "colorbar": {
              "outlinewidth": 0,
              "ticks": ""
             }
            },
            "type": "scattercarpet"
           }
          ],
          "scattergeo": [
           {
            "marker": {
             "colorbar": {
              "outlinewidth": 0,
              "ticks": ""
             }
            },
            "type": "scattergeo"
           }
          ],
          "scattergl": [
           {
            "marker": {
             "colorbar": {
              "outlinewidth": 0,
              "ticks": ""
             }
            },
            "type": "scattergl"
           }
          ],
          "scattermapbox": [
           {
            "marker": {
             "colorbar": {
              "outlinewidth": 0,
              "ticks": ""
             }
            },
            "type": "scattermapbox"
           }
          ],
          "scatterpolar": [
           {
            "marker": {
             "colorbar": {
              "outlinewidth": 0,
              "ticks": ""
             }
            },
            "type": "scatterpolar"
           }
          ],
          "scatterpolargl": [
           {
            "marker": {
             "colorbar": {
              "outlinewidth": 0,
              "ticks": ""
             }
            },
            "type": "scatterpolargl"
           }
          ],
          "scatterternary": [
           {
            "marker": {
             "colorbar": {
              "outlinewidth": 0,
              "ticks": ""
             }
            },
            "type": "scatterternary"
           }
          ],
          "surface": [
           {
            "colorbar": {
             "outlinewidth": 0,
             "ticks": ""
            },
            "colorscale": [
             [
              0,
              "#0d0887"
             ],
             [
              0.1111111111111111,
              "#46039f"
             ],
             [
              0.2222222222222222,
              "#7201a8"
             ],
             [
              0.3333333333333333,
              "#9c179e"
             ],
             [
              0.4444444444444444,
              "#bd3786"
             ],
             [
              0.5555555555555556,
              "#d8576b"
             ],
             [
              0.6666666666666666,
              "#ed7953"
             ],
             [
              0.7777777777777778,
              "#fb9f3a"
             ],
             [
              0.8888888888888888,
              "#fdca26"
             ],
             [
              1,
              "#f0f921"
             ]
            ],
            "type": "surface"
           }
          ],
          "table": [
           {
            "cells": {
             "fill": {
              "color": "#EBF0F8"
             },
             "line": {
              "color": "white"
             }
            },
            "header": {
             "fill": {
              "color": "#C8D4E3"
             },
             "line": {
              "color": "white"
             }
            },
            "type": "table"
           }
          ]
         },
         "layout": {
          "annotationdefaults": {
           "arrowcolor": "#2a3f5f",
           "arrowhead": 0,
           "arrowwidth": 1
          },
          "autotypenumbers": "strict",
          "coloraxis": {
           "colorbar": {
            "outlinewidth": 0,
            "ticks": ""
           }
          },
          "colorscale": {
           "diverging": [
            [
             0,
             "#8e0152"
            ],
            [
             0.1,
             "#c51b7d"
            ],
            [
             0.2,
             "#de77ae"
            ],
            [
             0.3,
             "#f1b6da"
            ],
            [
             0.4,
             "#fde0ef"
            ],
            [
             0.5,
             "#f7f7f7"
            ],
            [
             0.6,
             "#e6f5d0"
            ],
            [
             0.7,
             "#b8e186"
            ],
            [
             0.8,
             "#7fbc41"
            ],
            [
             0.9,
             "#4d9221"
            ],
            [
             1,
             "#276419"
            ]
           ],
           "sequential": [
            [
             0,
             "#0d0887"
            ],
            [
             0.1111111111111111,
             "#46039f"
            ],
            [
             0.2222222222222222,
             "#7201a8"
            ],
            [
             0.3333333333333333,
             "#9c179e"
            ],
            [
             0.4444444444444444,
             "#bd3786"
            ],
            [
             0.5555555555555556,
             "#d8576b"
            ],
            [
             0.6666666666666666,
             "#ed7953"
            ],
            [
             0.7777777777777778,
             "#fb9f3a"
            ],
            [
             0.8888888888888888,
             "#fdca26"
            ],
            [
             1,
             "#f0f921"
            ]
           ],
           "sequentialminus": [
            [
             0,
             "#0d0887"
            ],
            [
             0.1111111111111111,
             "#46039f"
            ],
            [
             0.2222222222222222,
             "#7201a8"
            ],
            [
             0.3333333333333333,
             "#9c179e"
            ],
            [
             0.4444444444444444,
             "#bd3786"
            ],
            [
             0.5555555555555556,
             "#d8576b"
            ],
            [
             0.6666666666666666,
             "#ed7953"
            ],
            [
             0.7777777777777778,
             "#fb9f3a"
            ],
            [
             0.8888888888888888,
             "#fdca26"
            ],
            [
             1,
             "#f0f921"
            ]
           ]
          },
          "colorway": [
           "#636efa",
           "#EF553B",
           "#00cc96",
           "#ab63fa",
           "#FFA15A",
           "#19d3f3",
           "#FF6692",
           "#B6E880",
           "#FF97FF",
           "#FECB52"
          ],
          "font": {
           "color": "#2a3f5f"
          },
          "geo": {
           "bgcolor": "white",
           "lakecolor": "white",
           "landcolor": "#E5ECF6",
           "showlakes": true,
           "showland": true,
           "subunitcolor": "white"
          },
          "hoverlabel": {
           "align": "left"
          },
          "hovermode": "closest",
          "mapbox": {
           "style": "light"
          },
          "paper_bgcolor": "white",
          "plot_bgcolor": "#E5ECF6",
          "polar": {
           "angularaxis": {
            "gridcolor": "white",
            "linecolor": "white",
            "ticks": ""
           },
           "bgcolor": "#E5ECF6",
           "radialaxis": {
            "gridcolor": "white",
            "linecolor": "white",
            "ticks": ""
           }
          },
          "scene": {
           "xaxis": {
            "backgroundcolor": "#E5ECF6",
            "gridcolor": "white",
            "gridwidth": 2,
            "linecolor": "white",
            "showbackground": true,
            "ticks": "",
            "zerolinecolor": "white"
           },
           "yaxis": {
            "backgroundcolor": "#E5ECF6",
            "gridcolor": "white",
            "gridwidth": 2,
            "linecolor": "white",
            "showbackground": true,
            "ticks": "",
            "zerolinecolor": "white"
           },
           "zaxis": {
            "backgroundcolor": "#E5ECF6",
            "gridcolor": "white",
            "gridwidth": 2,
            "linecolor": "white",
            "showbackground": true,
            "ticks": "",
            "zerolinecolor": "white"
           }
          },
          "shapedefaults": {
           "line": {
            "color": "#2a3f5f"
           }
          },
          "ternary": {
           "aaxis": {
            "gridcolor": "white",
            "linecolor": "white",
            "ticks": ""
           },
           "baxis": {
            "gridcolor": "white",
            "linecolor": "white",
            "ticks": ""
           },
           "bgcolor": "#E5ECF6",
           "caxis": {
            "gridcolor": "white",
            "linecolor": "white",
            "ticks": ""
           }
          },
          "title": {
           "x": 0.05
          },
          "xaxis": {
           "automargin": true,
           "gridcolor": "white",
           "linecolor": "white",
           "ticks": "",
           "title": {
            "standoff": 15
           },
           "zerolinecolor": "white",
           "zerolinewidth": 2
          },
          "yaxis": {
           "automargin": true,
           "gridcolor": "white",
           "linecolor": "white",
           "ticks": "",
           "title": {
            "standoff": 15
           },
           "zerolinecolor": "white",
           "zerolinewidth": 2
          }
         }
        },
        "title": {
         "text": "2022 TSA Complaints by State"
        }
       }
      },
      "text/html": [
       "<div>                            <div id=\"fa46384e-804d-4f2a-b27d-43e579f84bcd\" class=\"plotly-graph-div\" style=\"height:525px; width:100%;\"></div>            <script type=\"text/javascript\">                require([\"plotly\"], function(Plotly) {                    window.PLOTLYENV=window.PLOTLYENV || {};                                    if (document.getElementById(\"fa46384e-804d-4f2a-b27d-43e579f84bcd\")) {                    Plotly.newPlot(                        \"fa46384e-804d-4f2a-b27d-43e579f84bcd\",                        [{\"coloraxis\":\"coloraxis\",\"geo\":\"geo\",\"hovertemplate\":\"abbreviation=%{location}<br>count=%{z}<extra></extra>\",\"locationmode\":\"USA-states\",\"locations\":[\"AL\",\"AK\",\"AZ\",\"AR\",\"CA\",\"CO\",\"CT\",\"DE\",\"FL\",\"GA\",\"HI\",\"ID\",\"IL\",\"IN\",\"IA\",\"KS\",\"KY\",\"LA\",\"ME\",\"MD\",\"MA\",\"MI\",\"MN\",\"MS\",\"MO\",\"MT\",\"NE\",\"NV\",\"NH\",\"NJ\",\"NM\",\"NY\",\"NC\",\"ND\",\"OH\",\"OK\",\"OR\",\"PA\",\"RI\",\"SC\",\"SD\",\"TN\",\"TX\",\"UT\",\"VT\",\"VA\",\"WA\",\"WV\",\"WI\",\"WY\"],\"name\":\"\",\"z\":[21,32,193,23,361,364,58,3,281,368,103,26,410,62,41,15,70,96,22,107,282,177,177,13,75,17,6,188,11,568,50,342,141,15,90,30,118,225,27,56,11,103,249,95,14,194,274,4,39,10],\"type\":\"choropleth\"}],                        {\"template\":{\"data\":{\"histogram2dcontour\":[{\"type\":\"histogram2dcontour\",\"colorbar\":{\"outlinewidth\":0,\"ticks\":\"\"},\"colorscale\":[[0.0,\"#0d0887\"],[0.1111111111111111,\"#46039f\"],[0.2222222222222222,\"#7201a8\"],[0.3333333333333333,\"#9c179e\"],[0.4444444444444444,\"#bd3786\"],[0.5555555555555556,\"#d8576b\"],[0.6666666666666666,\"#ed7953\"],[0.7777777777777778,\"#fb9f3a\"],[0.8888888888888888,\"#fdca26\"],[1.0,\"#f0f921\"]]}],\"choropleth\":[{\"type\":\"choropleth\",\"colorbar\":{\"outlinewidth\":0,\"ticks\":\"\"}}],\"histogram2d\":[{\"type\":\"histogram2d\",\"colorbar\":{\"outlinewidth\":0,\"ticks\":\"\"},\"colorscale\":[[0.0,\"#0d0887\"],[0.1111111111111111,\"#46039f\"],[0.2222222222222222,\"#7201a8\"],[0.3333333333333333,\"#9c179e\"],[0.4444444444444444,\"#bd3786\"],[0.5555555555555556,\"#d8576b\"],[0.6666666666666666,\"#ed7953\"],[0.7777777777777778,\"#fb9f3a\"],[0.8888888888888888,\"#fdca26\"],[1.0,\"#f0f921\"]]}],\"heatmap\":[{\"type\":\"heatmap\",\"colorbar\":{\"outlinewidth\":0,\"ticks\":\"\"},\"colorscale\":[[0.0,\"#0d0887\"],[0.1111111111111111,\"#46039f\"],[0.2222222222222222,\"#7201a8\"],[0.3333333333333333,\"#9c179e\"],[0.4444444444444444,\"#bd3786\"],[0.5555555555555556,\"#d8576b\"],[0.6666666666666666,\"#ed7953\"],[0.7777777777777778,\"#fb9f3a\"],[0.8888888888888888,\"#fdca26\"],[1.0,\"#f0f921\"]]}],\"heatmapgl\":[{\"type\":\"heatmapgl\",\"colorbar\":{\"outlinewidth\":0,\"ticks\":\"\"},\"colorscale\":[[0.0,\"#0d0887\"],[0.1111111111111111,\"#46039f\"],[0.2222222222222222,\"#7201a8\"],[0.3333333333333333,\"#9c179e\"],[0.4444444444444444,\"#bd3786\"],[0.5555555555555556,\"#d8576b\"],[0.6666666666666666,\"#ed7953\"],[0.7777777777777778,\"#fb9f3a\"],[0.8888888888888888,\"#fdca26\"],[1.0,\"#f0f921\"]]}],\"contourcarpet\":[{\"type\":\"contourcarpet\",\"colorbar\":{\"outlinewidth\":0,\"ticks\":\"\"}}],\"contour\":[{\"type\":\"contour\",\"colorbar\":{\"outlinewidth\":0,\"ticks\":\"\"},\"colorscale\":[[0.0,\"#0d0887\"],[0.1111111111111111,\"#46039f\"],[0.2222222222222222,\"#7201a8\"],[0.3333333333333333,\"#9c179e\"],[0.4444444444444444,\"#bd3786\"],[0.5555555555555556,\"#d8576b\"],[0.6666666666666666,\"#ed7953\"],[0.7777777777777778,\"#fb9f3a\"],[0.8888888888888888,\"#fdca26\"],[1.0,\"#f0f921\"]]}],\"surface\":[{\"type\":\"surface\",\"colorbar\":{\"outlinewidth\":0,\"ticks\":\"\"},\"colorscale\":[[0.0,\"#0d0887\"],[0.1111111111111111,\"#46039f\"],[0.2222222222222222,\"#7201a8\"],[0.3333333333333333,\"#9c179e\"],[0.4444444444444444,\"#bd3786\"],[0.5555555555555556,\"#d8576b\"],[0.6666666666666666,\"#ed7953\"],[0.7777777777777778,\"#fb9f3a\"],[0.8888888888888888,\"#fdca26\"],[1.0,\"#f0f921\"]]}],\"mesh3d\":[{\"type\":\"mesh3d\",\"colorbar\":{\"outlinewidth\":0,\"ticks\":\"\"}}],\"scatter\":[{\"fillpattern\":{\"fillmode\":\"overlay\",\"size\":10,\"solidity\":0.2},\"type\":\"scatter\"}],\"parcoords\":[{\"type\":\"parcoords\",\"line\":{\"colorbar\":{\"outlinewidth\":0,\"ticks\":\"\"}}}],\"scatterpolargl\":[{\"type\":\"scatterpolargl\",\"marker\":{\"colorbar\":{\"outlinewidth\":0,\"ticks\":\"\"}}}],\"bar\":[{\"error_x\":{\"color\":\"#2a3f5f\"},\"error_y\":{\"color\":\"#2a3f5f\"},\"marker\":{\"line\":{\"color\":\"#E5ECF6\",\"width\":0.5},\"pattern\":{\"fillmode\":\"overlay\",\"size\":10,\"solidity\":0.2}},\"type\":\"bar\"}],\"scattergeo\":[{\"type\":\"scattergeo\",\"marker\":{\"colorbar\":{\"outlinewidth\":0,\"ticks\":\"\"}}}],\"scatterpolar\":[{\"type\":\"scatterpolar\",\"marker\":{\"colorbar\":{\"outlinewidth\":0,\"ticks\":\"\"}}}],\"histogram\":[{\"marker\":{\"pattern\":{\"fillmode\":\"overlay\",\"size\":10,\"solidity\":0.2}},\"type\":\"histogram\"}],\"scattergl\":[{\"type\":\"scattergl\",\"marker\":{\"colorbar\":{\"outlinewidth\":0,\"ticks\":\"\"}}}],\"scatter3d\":[{\"type\":\"scatter3d\",\"line\":{\"colorbar\":{\"outlinewidth\":0,\"ticks\":\"\"}},\"marker\":{\"colorbar\":{\"outlinewidth\":0,\"ticks\":\"\"}}}],\"scattermapbox\":[{\"type\":\"scattermapbox\",\"marker\":{\"colorbar\":{\"outlinewidth\":0,\"ticks\":\"\"}}}],\"scatterternary\":[{\"type\":\"scatterternary\",\"marker\":{\"colorbar\":{\"outlinewidth\":0,\"ticks\":\"\"}}}],\"scattercarpet\":[{\"type\":\"scattercarpet\",\"marker\":{\"colorbar\":{\"outlinewidth\":0,\"ticks\":\"\"}}}],\"carpet\":[{\"aaxis\":{\"endlinecolor\":\"#2a3f5f\",\"gridcolor\":\"white\",\"linecolor\":\"white\",\"minorgridcolor\":\"white\",\"startlinecolor\":\"#2a3f5f\"},\"baxis\":{\"endlinecolor\":\"#2a3f5f\",\"gridcolor\":\"white\",\"linecolor\":\"white\",\"minorgridcolor\":\"white\",\"startlinecolor\":\"#2a3f5f\"},\"type\":\"carpet\"}],\"table\":[{\"cells\":{\"fill\":{\"color\":\"#EBF0F8\"},\"line\":{\"color\":\"white\"}},\"header\":{\"fill\":{\"color\":\"#C8D4E3\"},\"line\":{\"color\":\"white\"}},\"type\":\"table\"}],\"barpolar\":[{\"marker\":{\"line\":{\"color\":\"#E5ECF6\",\"width\":0.5},\"pattern\":{\"fillmode\":\"overlay\",\"size\":10,\"solidity\":0.2}},\"type\":\"barpolar\"}],\"pie\":[{\"automargin\":true,\"type\":\"pie\"}]},\"layout\":{\"autotypenumbers\":\"strict\",\"colorway\":[\"#636efa\",\"#EF553B\",\"#00cc96\",\"#ab63fa\",\"#FFA15A\",\"#19d3f3\",\"#FF6692\",\"#B6E880\",\"#FF97FF\",\"#FECB52\"],\"font\":{\"color\":\"#2a3f5f\"},\"hovermode\":\"closest\",\"hoverlabel\":{\"align\":\"left\"},\"paper_bgcolor\":\"white\",\"plot_bgcolor\":\"#E5ECF6\",\"polar\":{\"bgcolor\":\"#E5ECF6\",\"angularaxis\":{\"gridcolor\":\"white\",\"linecolor\":\"white\",\"ticks\":\"\"},\"radialaxis\":{\"gridcolor\":\"white\",\"linecolor\":\"white\",\"ticks\":\"\"}},\"ternary\":{\"bgcolor\":\"#E5ECF6\",\"aaxis\":{\"gridcolor\":\"white\",\"linecolor\":\"white\",\"ticks\":\"\"},\"baxis\":{\"gridcolor\":\"white\",\"linecolor\":\"white\",\"ticks\":\"\"},\"caxis\":{\"gridcolor\":\"white\",\"linecolor\":\"white\",\"ticks\":\"\"}},\"coloraxis\":{\"colorbar\":{\"outlinewidth\":0,\"ticks\":\"\"}},\"colorscale\":{\"sequential\":[[0.0,\"#0d0887\"],[0.1111111111111111,\"#46039f\"],[0.2222222222222222,\"#7201a8\"],[0.3333333333333333,\"#9c179e\"],[0.4444444444444444,\"#bd3786\"],[0.5555555555555556,\"#d8576b\"],[0.6666666666666666,\"#ed7953\"],[0.7777777777777778,\"#fb9f3a\"],[0.8888888888888888,\"#fdca26\"],[1.0,\"#f0f921\"]],\"sequentialminus\":[[0.0,\"#0d0887\"],[0.1111111111111111,\"#46039f\"],[0.2222222222222222,\"#7201a8\"],[0.3333333333333333,\"#9c179e\"],[0.4444444444444444,\"#bd3786\"],[0.5555555555555556,\"#d8576b\"],[0.6666666666666666,\"#ed7953\"],[0.7777777777777778,\"#fb9f3a\"],[0.8888888888888888,\"#fdca26\"],[1.0,\"#f0f921\"]],\"diverging\":[[0,\"#8e0152\"],[0.1,\"#c51b7d\"],[0.2,\"#de77ae\"],[0.3,\"#f1b6da\"],[0.4,\"#fde0ef\"],[0.5,\"#f7f7f7\"],[0.6,\"#e6f5d0\"],[0.7,\"#b8e186\"],[0.8,\"#7fbc41\"],[0.9,\"#4d9221\"],[1,\"#276419\"]]},\"xaxis\":{\"gridcolor\":\"white\",\"linecolor\":\"white\",\"ticks\":\"\",\"title\":{\"standoff\":15},\"zerolinecolor\":\"white\",\"automargin\":true,\"zerolinewidth\":2},\"yaxis\":{\"gridcolor\":\"white\",\"linecolor\":\"white\",\"ticks\":\"\",\"title\":{\"standoff\":15},\"zerolinecolor\":\"white\",\"automargin\":true,\"zerolinewidth\":2},\"scene\":{\"xaxis\":{\"backgroundcolor\":\"#E5ECF6\",\"gridcolor\":\"white\",\"linecolor\":\"white\",\"showbackground\":true,\"ticks\":\"\",\"zerolinecolor\":\"white\",\"gridwidth\":2},\"yaxis\":{\"backgroundcolor\":\"#E5ECF6\",\"gridcolor\":\"white\",\"linecolor\":\"white\",\"showbackground\":true,\"ticks\":\"\",\"zerolinecolor\":\"white\",\"gridwidth\":2},\"zaxis\":{\"backgroundcolor\":\"#E5ECF6\",\"gridcolor\":\"white\",\"linecolor\":\"white\",\"showbackground\":true,\"ticks\":\"\",\"zerolinecolor\":\"white\",\"gridwidth\":2}},\"shapedefaults\":{\"line\":{\"color\":\"#2a3f5f\"}},\"annotationdefaults\":{\"arrowcolor\":\"#2a3f5f\",\"arrowhead\":0,\"arrowwidth\":1},\"geo\":{\"bgcolor\":\"white\",\"landcolor\":\"#E5ECF6\",\"subunitcolor\":\"white\",\"showland\":true,\"showlakes\":true,\"lakecolor\":\"white\"},\"title\":{\"x\":0.05},\"mapbox\":{\"style\":\"light\"}}},\"geo\":{\"domain\":{\"x\":[0.0,1.0],\"y\":[0.0,1.0]},\"center\":{},\"scope\":\"usa\"},\"coloraxis\":{\"colorbar\":{\"title\":{\"text\":\"count\"}},\"colorscale\":[[0.0,\"rgb(255,247,236)\"],[0.125,\"rgb(254,232,200)\"],[0.25,\"rgb(253,212,158)\"],[0.375,\"rgb(253,187,132)\"],[0.5,\"rgb(252,141,89)\"],[0.625,\"rgb(239,101,72)\"],[0.75,\"rgb(215,48,31)\"],[0.875,\"rgb(179,0,0)\"],[1.0,\"rgb(127,0,0)\"]]},\"legend\":{\"tracegroupgap\":0},\"margin\":{\"t\":60},\"title\":{\"text\":\"2022 TSA Complaints by State\"}},                        {\"responsive\": true}                    ).then(function(){\n",
       "                            \n",
       "var gd = document.getElementById('fa46384e-804d-4f2a-b27d-43e579f84bcd');\n",
       "var x = new MutationObserver(function (mutations, observer) {{\n",
       "        var display = window.getComputedStyle(gd).display;\n",
       "        if (!display || display === 'none') {{\n",
       "            console.log([gd, 'removed!']);\n",
       "            Plotly.purge(gd);\n",
       "            observer.disconnect();\n",
       "        }}\n",
       "}});\n",
       "\n",
       "// Listen for the removal of the full notebook cells\n",
       "var notebookContainer = gd.closest('#notebook-container');\n",
       "if (notebookContainer) {{\n",
       "    x.observe(notebookContainer, {childList: true});\n",
       "}}\n",
       "\n",
       "// Listen for the clearing of the current output cell\n",
       "var outputEl = gd.closest('.output');\n",
       "if (outputEl) {{\n",
       "    x.observe(outputEl, {childList: true});\n",
       "}}\n",
       "\n",
       "                        })                };                });            </script>        </div>"
      ]
     },
     "metadata": {},
     "output_type": "display_data"
    }
   ],
   "source": [
    "# Choropleth of number of complaints by state in 2022\n",
    "\n",
    "import plotly\n",
    "import plotly.express as px\n",
    " \n",
    "# create figure\n",
    "fig = px.choropleth(complaints_by_subcategory_state_abb, locations='abbreviation',\n",
    "                    locationmode=\"USA-states\", color='count', scope=\"usa\", color_continuous_scale=\"OrRd\")\n",
    "fig.update_layout(\n",
    "    title_text = '2022 TSA Complaints by State')\n",
    "fig.show()"
   ]
  },
  {
   "cell_type": "markdown",
   "id": "9e4e71f7",
   "metadata": {},
   "source": [
    "New Jersey was the state with the most complaints in 2022."
   ]
  },
  {
   "cell_type": "markdown",
   "id": "c1192ea0",
   "metadata": {},
   "source": [
    "## Complaints by Category in New Jersey"
   ]
  },
  {
   "cell_type": "code",
   "execution_count": 64,
   "id": "3a97aef1",
   "metadata": {},
   "outputs": [
    {
     "data": {
      "image/png": "[encoded data removed]",
      "text/plain": [
       "<Figure size 640x480 with 1 Axes>"
      ]
     },
     "metadata": {},
     "output_type": "display_data"
    }
   ],
   "source": [
    "# Find categories with the most complaints in New Jersey\n",
    "group_gy_category = complaints_by_category.loc[complaints_by_category['region_name'] == 'New Jersey']\n",
    "group_by_category = group_gy_category[['count', 'clean_cat']]\n",
    "group_by_category = group_by_category.groupby('clean_cat').max()\n",
    "group_by_category = group_by_category.sort_values('count', ascending=False)\n",
    "group_by_category = group_by_category[:10]\n",
    "group_by_category.reset_index(inplace=True)\n",
    "\n",
    "# Plot number of complaints by category\n",
    "plt.barh(group_by_category['clean_cat'], group_by_category['count'], color = 'peru')\n",
    "plt.ylabel('Category')\n",
    "plt.xlabel('Number of Complaints')\n",
    "plt.title('Complaints by Category in New Jersey')\n",
    "plt.show()"
   ]
  },
  {
   "cell_type": "markdown",
   "id": "613e0a0b",
   "metadata": {},
   "source": [
    "## Complaints by Subcategory in New Jersey"
   ]
  },
  {
   "cell_type": "code",
   "execution_count": 42,
   "id": "749f5304",
   "metadata": {},
   "outputs": [
    {
     "data": {
      "image/png": "[encoded data removed]",
      "text/plain": [
       "<Figure size 640x480 with 1 Axes>"
      ]
     },
     "metadata": {},
     "output_type": "display_data"
    }
   ],
   "source": [
    "# Look at count of subcategory in New Jersey when category is Expedited Passenger Screening Program\n",
    "group_by_subcategory = complaints_by_subcategory.loc[complaints_by_subcategory['region_name'] == 'New Jersey']\n",
    "group_by_subcategory = group_by_subcategory.loc[group_by_subcategory['category']=='Expedited Passenger Screening Program']\n",
    "group_by_subcategory = group_by_subcategory[['count', 'clean_subcat']]\n",
    "group_by_subcategory = group_by_subcategory.groupby('clean_subcat').max()\n",
    "group_by_subcategory = group_by_subcategory.sort_values('count', ascending=False)\n",
    "group_by_subcategory.reset_index(inplace=True)\n",
    "group_by_subcategory\n",
    "\n",
    "# Plot number of complaints by subcategory\n",
    "plt.barh(group_by_subcategory['clean_subcat'], group_by_subcategory['count'], color = 'peru')\n",
    "plt.ylabel('Subcategory')\n",
    "plt.xlabel('Number of Complaints')\n",
    "plt.title('Complaints by Subategory in New Jersey')\n",
    "plt.show()"
   ]
  },
  {
   "cell_type": "markdown",
   "id": "2f089acd",
   "metadata": {},
   "source": [
    "The * indicates the subcategory is ambigious so we cannot gain any more insights from this. The best we can say is that the category responsible for the most complaints is Expidited Screening Passenger Programs.\n",
    "\n",
    "In the future, it would be useful to have less ambigious subcategories so actionable inisghts can be drawn from data collected."
   ]
  },
  {
   "cell_type": "markdown",
   "id": "7d2a68a5",
   "metadata": {},
   "source": [
    "## Complaints by Month"
   ]
  },
  {
   "cell_type": "code",
   "execution_count": 30,
   "id": "238cde24",
   "metadata": {},
   "outputs": [],
   "source": [
    "# Boxplot of number of complaints by month for New Jersey\n"
   ]
  },
  {
   "cell_type": "code",
   "execution_count": 31,
   "id": "577143f8",
   "metadata": {},
   "outputs": [
    {
     "data": {
      "text/html": [
       "<div>\n",
       "<style scoped>\n",
       "    .dataframe tbody tr th:only-of-type {\n",
       "        vertical-align: middle;\n",
       "    }\n",
       "\n",
       "    .dataframe tbody tr th {\n",
       "        vertical-align: top;\n",
       "    }\n",
       "\n",
       "    .dataframe thead th {\n",
       "        text-align: right;\n",
       "    }\n",
       "</style>\n",
       "<table border=\"1\" class=\"dataframe\">\n",
       "  <thead>\n",
       "    <tr style=\"text-align: right;\">\n",
       "      <th></th>\n",
       "      <th>month</th>\n",
       "      <th>year</th>\n",
       "      <th>count</th>\n",
       "    </tr>\n",
       "  </thead>\n",
       "  <tbody>\n",
       "    <tr>\n",
       "      <th>0</th>\n",
       "      <td>01</td>\n",
       "      <td>2015</td>\n",
       "      <td>103</td>\n",
       "    </tr>\n",
       "    <tr>\n",
       "      <th>1</th>\n",
       "      <td>01</td>\n",
       "      <td>2016</td>\n",
       "      <td>172</td>\n",
       "    </tr>\n",
       "    <tr>\n",
       "      <th>2</th>\n",
       "      <td>01</td>\n",
       "      <td>2017</td>\n",
       "      <td>190</td>\n",
       "    </tr>\n",
       "    <tr>\n",
       "      <th>3</th>\n",
       "      <td>01</td>\n",
       "      <td>2018</td>\n",
       "      <td>154</td>\n",
       "    </tr>\n",
       "    <tr>\n",
       "      <th>4</th>\n",
       "      <td>01</td>\n",
       "      <td>2019</td>\n",
       "      <td>109</td>\n",
       "    </tr>\n",
       "    <tr>\n",
       "      <th>...</th>\n",
       "      <td>...</td>\n",
       "      <td>...</td>\n",
       "      <td>...</td>\n",
       "    </tr>\n",
       "    <tr>\n",
       "      <th>104</th>\n",
       "      <td>12</td>\n",
       "      <td>2019</td>\n",
       "      <td>201</td>\n",
       "    </tr>\n",
       "    <tr>\n",
       "      <th>105</th>\n",
       "      <td>12</td>\n",
       "      <td>2020</td>\n",
       "      <td>34</td>\n",
       "    </tr>\n",
       "    <tr>\n",
       "      <th>106</th>\n",
       "      <td>12</td>\n",
       "      <td>2021</td>\n",
       "      <td>302</td>\n",
       "    </tr>\n",
       "    <tr>\n",
       "      <th>107</th>\n",
       "      <td>12</td>\n",
       "      <td>2022</td>\n",
       "      <td>591</td>\n",
       "    </tr>\n",
       "    <tr>\n",
       "      <th>108</th>\n",
       "      <td>12</td>\n",
       "      <td>2023</td>\n",
       "      <td>512</td>\n",
       "    </tr>\n",
       "  </tbody>\n",
       "</table>\n",
       "<p>109 rows × 3 columns</p>\n",
       "</div>"
      ],
      "text/plain": [
       "    month  year  count\n",
       "0      01  2015    103\n",
       "1      01  2016    172\n",
       "2      01  2017    190\n",
       "3      01  2018    154\n",
       "4      01  2019    109\n",
       "..    ...   ...    ...\n",
       "104    12  2019    201\n",
       "105    12  2020     34\n",
       "106    12  2021    302\n",
       "107    12  2022    591\n",
       "108    12  2023    512\n",
       "\n",
       "[109 rows x 3 columns]"
      ]
     },
     "execution_count": 31,
     "metadata": {},
     "output_type": "execute_result"
    }
   ],
   "source": [
    "# Find number of complaints in each month for each year\n",
    "new_jersey_by_month = complaints_by_airport.loc[complaints_by_airport['region_name'] == 'New Jersey']\n",
    "new_jersey_by_month = new_jersey_by_month[['count', 'month', 'year']]\n",
    "new_jersey_by_month = new_jersey_by_month.groupby(['month','year']).max()\n",
    "new_jersey_by_month.reset_index(inplace=True)\n",
    "new_jersey_by_month"
   ]
  },
  {
   "cell_type": "code",
   "execution_count": 32,
   "id": "a836cbeb",
   "metadata": {},
   "outputs": [],
   "source": [
    "January = new_jersey_by_month.loc[new_jersey_by_month['month']=='01']\n",
    "February = new_jersey_by_month.loc[new_jersey_by_month['month']=='02']\n",
    "March = new_jersey_by_month.loc[new_jersey_by_month['month']=='03']\n",
    "April = new_jersey_by_month.loc[new_jersey_by_month['month']=='04']\n",
    "May = new_jersey_by_month.loc[new_jersey_by_month['month']=='05']\n",
    "June = new_jersey_by_month.loc[new_jersey_by_month['month']=='06']\n",
    "July = new_jersey_by_month.loc[new_jersey_by_month['month']=='07']\n",
    "August = new_jersey_by_month.loc[new_jersey_by_month['month']=='08']\n",
    "September = new_jersey_by_month.loc[new_jersey_by_month['month']=='09']\n",
    "October = new_jersey_by_month.loc[new_jersey_by_month['month']=='10']\n",
    "November = new_jersey_by_month.loc[new_jersey_by_month['month']=='11']\n",
    "December = new_jersey_by_month.loc[new_jersey_by_month['month']=='12']"
   ]
  },
  {
   "cell_type": "code",
   "execution_count": 33,
   "id": "a7ad7f31",
   "metadata": {},
   "outputs": [
    {
     "data": {
      "image/png": "[encoded data removed]",
      "text/plain": [
       "<Figure size 1000x600 with 1 Axes>"
      ]
     },
     "metadata": {},
     "output_type": "display_data"
    }
   ],
   "source": [
    "columns = [January['count'], February['count'], March['count'], April['count'], May['count'], June['count'], \n",
    "           July['count'], August['count'], September['count'], October['count'], November['count'], December['count']]\n",
    "\n",
    "plt.figure(figsize=(10, 6))\n",
    "plt.boxplot(columns, labels = ['January', 'February', 'March', 'April', 'May', 'June', 'July', 'August', 'September',\n",
    "                              'October', 'November', 'December'])\n",
    "plt.xticks(rotation=90)\n",
    "plt.ylabel('Number of Complaints')\n",
    "plt.title('Number of Complaints by Month in New Jersey Airports')\n",
    "plt.show()"
   ]
  },
  {
   "cell_type": "markdown",
   "id": "f8432c62",
   "metadata": {},
   "source": [
    "On average, December has the most complaints.\n",
    "\n",
    "### Conclusions\n",
    "\n",
    "TSA complaints are frequent and they must be reduced. Travelers are spending large amounts of money to travel through our airports, we should want to provide them with better service than we have been. \n",
    "\n",
    "We began by looking at the number of reported complaints per year. 2022 had the highest number of complaints. Since then, complaints have reduced but not to below COVID numbers. We wanted to understand what is causing these complaints. Our first search was to see if any variables (region, airport, complaint category, etc.) had a correlation with the number of complaints. If any of them did, we would know where to begin work. However, no categories had a strong correlation.\n",
    "\n",
    "From there we wanted to understand if any area in particular had more complaints than other. Viewing a map of the USA color-coded for complaint number revealed New Jersey has significantly more complaints than other states. From here, we chose to dive further into the data on New Jersey to discover ways to reduce complaints.\n",
    "\n",
    "In New Jersey, we found most complaints fell under the category 'Expedited Passenger Screening Program'. This indicates customers are usually complaining that they are waiting too long to get through required checkpoints within the airport. There are many checkpoints that could be causing this, so we tried to understand if there is a specific area customers complain about more. To do this, we examined the number of complaints by subcategory. Unfortunately, this did not yield any useful data because the subcategories listed on the complaint form are not specific enough.\n",
    "\n",
    "A final aspect we examined was how complaints change throughout the year. We found that over the past 10 years on avearge, December ha the most complaints. This is likely due to a higher number of travelers in the airport during this time.\n",
    "\n",
    "### Recommendations\n",
    " 1) Increase staffing at major checkpoints (baggage drop off, security, customs, etc.): An increase in staff will allow more customers to be helped at once, reducing their wait time.\n",
    " \n",
    " 3) Increase number of scanners at security checkpoints: Again this will reduce wait time for customers\n",
    " \n",
    " 2) Update TSA complaints form to have better subcategory options. This will lead to better understanding of where to put resources\n",
    " \n",
    "Recommendations 1 and 2 will be costly, however the cost will be outweiged by the gain in customers. If customers have a bette experience at the airport, they will be more likely to fly than drive which will increase profits."
   ]
  },
  {
   "cell_type": "code",
   "execution_count": null,
   "id": "821f7c14",
   "metadata": {},
   "outputs": [],
   "source": []
  }
 ],
 "metadata": {
  "kernelspec": {
   "display_name": "\"Python/Mu (mu_venv-38-20230906-174002)\"",
   "language": "python",
   "name": "mu_venv-38-20230906-174002"
  },
  "language_info": {
   "codemirror_mode": {
    "name": "ipython",
    "version": 3
   },
   "file_extension": ".py",
   "mimetype": "text/x-python",
   "name": "python",
   "nbconvert_exporter": "python",
   "pygments_lexer": "ipython3",
   "version": "3.8.12"
  }
 },
 "nbformat": 4,
 "nbformat_minor": 5
}
